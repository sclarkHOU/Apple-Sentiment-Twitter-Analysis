{
 "cells": [
  {
   "cell_type": "markdown",
   "metadata": {},
   "source": [
    "<div align=\"center\">\n",
    "    <img src=\"apple_twitter_banner.jpg\" width=\"450\">\n",
    "</div>"
   ]
  },
  {
   "cell_type": "markdown",
   "metadata": {},
   "source": [
    "# Apple Brand Sentiment on Twitter at South by Southwest (SXSW)"
   ]
  },
  {
   "cell_type": "markdown",
   "metadata": {},
   "source": [
    "## Team Members:\n",
    "* [Sean Harris](https://www.linkedin.com/in/sean-harris-data-sci-and-finance/), Technical Lead\n",
    "* [Stuart Clark](https://www.linkedin.com/in/sean-harris-data-sci-and-finance/), GitHub Lead\n",
    "* [Rajesh (Raj) Reddy](https://www.linkedin.com/in/sean-harris-data-sci-and-finance/), Presentation Lead\n",
    "\n",
    "## Business Situation\n",
    "We have been tasked with analyzing Twitter 2011 data from SXSW and creating a model of positive and negative tweets. We want to figure out how consumers feel about their products. The data set has been provided to us and already has some classification applied to the tweets such as brand and sentiment.\n",
    "\n",
    "1.\tExplore the data.\n",
    "2.\tDevelop a model on positive and negative consumer sentiment.\n",
    "3.\tProvide recommendations to Apple’s Marketing and Product Design teams.\n",
    "\n",
    "## Data Overview\n",
    "We used a dataset from data.world provided by CrowdFlower which contains 9,093 tweets about Apple and Google from the South by Southwest (SXSW) Conference. The tweet labels were crowdsourced and reflect which emotion they convey and what product/service/company this emotion is directed at based on the content.\n",
    "\n",
    "### Filtering\n",
    "* The data is filtered to only include Apple products based on the newly calculated field called 'new_brand'.\n",
    "* Dropped 1 tweet that had null value.\n",
    "* Filtered out neutral to focus on positive and negative sentiment for this first model.\n",
    "\n",
    "### Data Limitations\n",
    "* Data only from 2011\n",
    "* Imbalanced data\n",
    "* Target column not always accurate\n",
    "\n"
   ]
  },
  {
   "cell_type": "code",
   "execution_count": 828,
   "metadata": {},
   "outputs": [],
   "source": [
    "# Import libraries\n",
    "import pandas as pd\n",
    "import numpy as np\n",
    "import re\n",
    "import unicodedata\n",
    "from nltk.corpus import stopwords\n",
    "from textblob import TextBlob\n",
    "from sklearn.feature_extraction.text import TfidfVectorizer\n",
    "import matplotlib.pyplot as plt\n",
    "import seaborn as sns\n",
    "from wordcloud import WordCloud\n",
    "from sklearn.model_selection import train_test_split, GridSearchCV, KFold, cross_val_predict\n",
    "from sklearn.linear_model import LogisticRegression\n",
    "from sklearn.metrics import accuracy_score, f1_score, classification_report, confusion_matrix\n",
    "from sklearn.naive_bayes import MultinomialNB\n",
    "from sklearn.tree import DecisionTreeClassifier\n",
    "from sklearn.ensemble import RandomForestClassifier, ExtraTreesClassifier, GradientBoostingClassifier\n",
    "from sklearn.linear_model import SGDClassifier\n",
    "from sklearn.pipeline import Pipeline"
   ]
  },
  {
   "cell_type": "markdown",
   "metadata": {},
   "source": [
    "# EDA"
   ]
  },
  {
   "cell_type": "code",
   "execution_count": 829,
   "metadata": {},
   "outputs": [
    {
     "data": {
      "text/html": [
       "<div>\n",
       "<style scoped>\n",
       "    .dataframe tbody tr th:only-of-type {\n",
       "        vertical-align: middle;\n",
       "    }\n",
       "\n",
       "    .dataframe tbody tr th {\n",
       "        vertical-align: top;\n",
       "    }\n",
       "\n",
       "    .dataframe thead th {\n",
       "        text-align: right;\n",
       "    }\n",
       "</style>\n",
       "<table border=\"1\" class=\"dataframe\">\n",
       "  <thead>\n",
       "    <tr style=\"text-align: right;\">\n",
       "      <th></th>\n",
       "      <th>tweet</th>\n",
       "      <th>brand_og</th>\n",
       "      <th>target</th>\n",
       "    </tr>\n",
       "  </thead>\n",
       "  <tbody>\n",
       "    <tr>\n",
       "      <th>0</th>\n",
       "      <td>.@wesley83 I have a 3G iPhone. After 3 hrs twe...</td>\n",
       "      <td>iPhone</td>\n",
       "      <td>Negative emotion</td>\n",
       "    </tr>\n",
       "    <tr>\n",
       "      <th>1</th>\n",
       "      <td>@jessedee Know about @fludapp ? Awesome iPad/i...</td>\n",
       "      <td>iPad or iPhone App</td>\n",
       "      <td>Positive emotion</td>\n",
       "    </tr>\n",
       "    <tr>\n",
       "      <th>2</th>\n",
       "      <td>@swonderlin Can not wait for #iPad 2 also. The...</td>\n",
       "      <td>iPad</td>\n",
       "      <td>Positive emotion</td>\n",
       "    </tr>\n",
       "    <tr>\n",
       "      <th>3</th>\n",
       "      <td>@sxsw I hope this year's festival isn't as cra...</td>\n",
       "      <td>iPad or iPhone App</td>\n",
       "      <td>Negative emotion</td>\n",
       "    </tr>\n",
       "  </tbody>\n",
       "</table>\n",
       "</div>"
      ],
      "text/plain": [
       "                                               tweet            brand_og  \\\n",
       "0  .@wesley83 I have a 3G iPhone. After 3 hrs twe...              iPhone   \n",
       "1  @jessedee Know about @fludapp ? Awesome iPad/i...  iPad or iPhone App   \n",
       "2  @swonderlin Can not wait for #iPad 2 also. The...                iPad   \n",
       "3  @sxsw I hope this year's festival isn't as cra...  iPad or iPhone App   \n",
       "\n",
       "             target  \n",
       "0  Negative emotion  \n",
       "1  Positive emotion  \n",
       "2  Positive emotion  \n",
       "3  Negative emotion  "
      ]
     },
     "execution_count": 829,
     "metadata": {},
     "output_type": "execute_result"
    }
   ],
   "source": [
    "# Read in the file with the correct encoding\n",
    "data = pd.read_csv('brandandproductemotions.csv', encoding='latin1')\n",
    "\n",
    "# Display the first few rows of the data and rename colummns\n",
    "data.columns = ['tweet', 'brand_og', 'target']\n",
    "data.head(4)"
   ]
  },
  {
   "cell_type": "code",
   "execution_count": 830,
   "metadata": {},
   "outputs": [
    {
     "name": "stdout",
     "output_type": "stream",
     "text": [
      "Unique Target Values: ['Negative emotion' 'Positive emotion'\n",
      " 'No emotion toward brand or product' \"I can't tell\"]\n",
      "Target Value Counts: No emotion toward brand or product    5389\n",
      "Positive emotion                      2978\n",
      "Negative emotion                       570\n",
      "I can't tell                           156\n",
      "Name: target, dtype: int64\n"
     ]
    }
   ],
   "source": [
    "print('Unique Target Values:', data['target'].unique())\n",
    "\n",
    "print('Target Value Counts:', data['target'].value_counts())"
   ]
  },
  {
   "cell_type": "code",
   "execution_count": 831,
   "metadata": {},
   "outputs": [
    {
     "data": {
      "text/plain": [
       "iPad                               946\n",
       "Apple                              661\n",
       "iPad or iPhone App                 470\n",
       "Google                             430\n",
       "iPhone                             297\n",
       "Other Google product or service    293\n",
       "Android App                         81\n",
       "Android                             78\n",
       "Other Apple product or service      35\n",
       "Name: brand_og, dtype: int64"
      ]
     },
     "execution_count": 831,
     "metadata": {},
     "output_type": "execute_result"
    }
   ],
   "source": [
    "data['brand_og'].value_counts()"
   ]
  },
  {
   "cell_type": "code",
   "execution_count": 832,
   "metadata": {},
   "outputs": [
    {
     "data": {
      "text/html": [
       "<div>\n",
       "<style scoped>\n",
       "    .dataframe tbody tr th:only-of-type {\n",
       "        vertical-align: middle;\n",
       "    }\n",
       "\n",
       "    .dataframe tbody tr th {\n",
       "        vertical-align: top;\n",
       "    }\n",
       "\n",
       "    .dataframe thead th {\n",
       "        text-align: right;\n",
       "    }\n",
       "</style>\n",
       "<table border=\"1\" class=\"dataframe\">\n",
       "  <thead>\n",
       "    <tr style=\"text-align: right;\">\n",
       "      <th></th>\n",
       "      <th>tweet</th>\n",
       "      <th>brand_og</th>\n",
       "      <th>target</th>\n",
       "    </tr>\n",
       "  </thead>\n",
       "  <tbody>\n",
       "    <tr>\n",
       "      <th>0</th>\n",
       "      <td>.@wesley83 i have a 3g iphone. after 3 hrs twe...</td>\n",
       "      <td>iphone</td>\n",
       "      <td>-1</td>\n",
       "    </tr>\n",
       "    <tr>\n",
       "      <th>1</th>\n",
       "      <td>@jessedee know about @fludapp ? awesome ipad/i...</td>\n",
       "      <td>ipad or iphone app</td>\n",
       "      <td>1</td>\n",
       "    </tr>\n",
       "    <tr>\n",
       "      <th>2</th>\n",
       "      <td>@swonderlin can not wait for #ipad 2 also. the...</td>\n",
       "      <td>ipad</td>\n",
       "      <td>1</td>\n",
       "    </tr>\n",
       "    <tr>\n",
       "      <th>3</th>\n",
       "      <td>@sxsw i hope this year's festival isn't as cra...</td>\n",
       "      <td>ipad or iphone app</td>\n",
       "      <td>-1</td>\n",
       "    </tr>\n",
       "    <tr>\n",
       "      <th>4</th>\n",
       "      <td>@sxtxstate great stuff on fri #sxsw: marissa m...</td>\n",
       "      <td>google</td>\n",
       "      <td>1</td>\n",
       "    </tr>\n",
       "  </tbody>\n",
       "</table>\n",
       "</div>"
      ],
      "text/plain": [
       "                                               tweet            brand_og  \\\n",
       "0  .@wesley83 i have a 3g iphone. after 3 hrs twe...              iphone   \n",
       "1  @jessedee know about @fludapp ? awesome ipad/i...  ipad or iphone app   \n",
       "2  @swonderlin can not wait for #ipad 2 also. the...                ipad   \n",
       "3  @sxsw i hope this year's festival isn't as cra...  ipad or iphone app   \n",
       "4  @sxtxstate great stuff on fri #sxsw: marissa m...              google   \n",
       "\n",
       "   target  \n",
       "0      -1  \n",
       "1       1  \n",
       "2       1  \n",
       "3      -1  \n",
       "4       1  "
      ]
     },
     "execution_count": 832,
     "metadata": {},
     "output_type": "execute_result"
    }
   ],
   "source": [
    "# Drop tweets with sentiment of 'I can't tell'\n",
    "data = data.drop((data.loc[data['target']==\"I can't tell\"]).index)\n",
    "\n",
    "# Map the sentiment values in the data to a number\n",
    "emotions = {'No emotion toward brand or product':0, 'Positive emotion':1, 'Negative emotion':-1}\n",
    "data['target'] = data['target'].map(emotions)\n",
    "\n",
    "# Make all cells lower\n",
    "data = data.applymap(lambda s: s.lower() if type(s) == str else s)\n",
    "\n",
    "data.head()\n"
   ]
  },
  {
   "cell_type": "code",
   "execution_count": 833,
   "metadata": {},
   "outputs": [
    {
     "name": "stdout",
     "output_type": "stream",
     "text": [
      "Percentage of Negative: 6.4%\n",
      "Percentage of Neutral: 60.3%\n",
      "Percentage of Positive: 33.3%\n"
     ]
    }
   ],
   "source": [
    "# Count occurrences of each value\n",
    "value_counts = data['target'].value_counts()\n",
    "\n",
    "# Calculate percentages\n",
    "total_count = len(data)\n",
    "percentage_minus_one = (value_counts.get(-1.0, 0) / total_count) * 100\n",
    "percentage_zero = (value_counts.get(0.0, 0) / total_count) * 100\n",
    "percentage_one = (value_counts.get(1.0, 0) / total_count) * 100\n",
    "\n",
    "# Print percentages\n",
    "print(\"Percentage of Negative: {:.1f}%\".format(percentage_minus_one))\n",
    "print(\"Percentage of Neutral: {:.1f}%\".format(percentage_zero))\n",
    "print(\"Percentage of Positive: {:.1f}%\".format(percentage_one))\n"
   ]
  },
  {
   "cell_type": "code",
   "execution_count": 834,
   "metadata": {},
   "outputs": [
    {
     "data": {
      "text/plain": [
       "tweet          1\n",
       "brand_og    5655\n",
       "target         0\n",
       "dtype: int64"
      ]
     },
     "execution_count": 834,
     "metadata": {},
     "output_type": "execute_result"
    }
   ],
   "source": [
    "# Find null values\n",
    "data.isna().sum()"
   ]
  },
  {
   "cell_type": "code",
   "execution_count": 835,
   "metadata": {},
   "outputs": [
    {
     "name": "stdout",
     "output_type": "stream",
     "text": [
      "longest review 178.0\n",
      "shortest review 11.0\n"
     ]
    }
   ],
   "source": [
    "#how long is the longest review?\n",
    "length_tweet = data.tweet.str.len()\n",
    "print(f'longest review {length_tweet.max()}')\n",
    "print(f'shortest review {length_tweet.min()}')"
   ]
  },
  {
   "cell_type": "markdown",
   "metadata": {},
   "source": [
    "# Data Cleaning"
   ]
  },
  {
   "cell_type": "code",
   "execution_count": 836,
   "metadata": {},
   "outputs": [],
   "source": [
    "# Replace NaN with \"unknown\" in the 'brand_og' column\n",
    "data['brand_og'].fillna('unknown', inplace=True)\n",
    "# Drop null in 'tweet'\n",
    "data = data.dropna(subset=['tweet'])"
   ]
  },
  {
   "cell_type": "code",
   "execution_count": 837,
   "metadata": {},
   "outputs": [],
   "source": [
    "# function to create new brand column based on values in tweet\n",
    "def check_substring(tweet):\n",
    "    # check if any of the sub strings appear individually\n",
    "    apple_list = any(substring in tweet for substring in apple)\n",
    "    android_list = any(substring in tweet for substring in android)\n",
    "\n",
    "    if apple_list and android_list:\n",
    "        return \"both\"\n",
    "    elif apple_list:\n",
    "        return \"apple\"\n",
    "    elif android_list:\n",
    "        return \"android\"\n",
    "    else:\n",
    "        return \"unknown\"\n",
    "    \n",
    "# Key words to search for to ID brand\n",
    "apple = ['iphone',\n",
    "         'ipad',\n",
    "         'itunes',\n",
    "         'apple']\n",
    "android = ['google',\n",
    "           'samsung',\n",
    "           'android']\n",
    "\n",
    "# Run function and create new_brand column\n",
    "data['new_brand'] = data['tweet'].apply(check_substring)"
   ]
  },
  {
   "cell_type": "code",
   "execution_count": 838,
   "metadata": {},
   "outputs": [
    {
     "data": {
      "image/png": "[encoded data removed]",
      "text/plain": [
       "<Figure size 432x288 with 1 Axes>"
      ]
     },
     "metadata": {
      "needs_background": "light"
     },
     "output_type": "display_data"
    }
   ],
   "source": [
    "tweet_counts_by_brand = data['new_brand'].value_counts()\n",
    "plt.bar(tweet_counts_by_brand.index, tweet_counts_by_brand.values, color='purple')\n",
    "plt.xlabel('New Brand')\n",
    "plt.ylabel('Tweet Count')\n",
    "plt.title('Tweet Count by New Brand')\n",
    "plt.show()\n"
   ]
  },
  {
   "cell_type": "code",
   "execution_count": 839,
   "metadata": {},
   "outputs": [
    {
     "name": "stdout",
     "output_type": "stream",
     "text": [
      "<class 'pandas.core.frame.DataFrame'>\n",
      "Int64Index: 5493 entries, 0 to 9091\n",
      "Data columns (total 4 columns):\n",
      " #   Column     Non-Null Count  Dtype \n",
      "---  ------     --------------  ----- \n",
      " 0   tweet      5493 non-null   object\n",
      " 1   brand_og   5493 non-null   object\n",
      " 2   target     5493 non-null   int64 \n",
      " 3   new_brand  5493 non-null   object\n",
      "dtypes: int64(1), object(3)\n",
      "memory usage: 214.6+ KB\n",
      "None\n",
      "apple    5237\n",
      "both      256\n",
      "Name: new_brand, dtype: int64\n"
     ]
    }
   ],
   "source": [
    "# Filter on Apple only\n",
    "data_apple = data[~data['new_brand'].isin(['android', 'unknown'])]\n",
    "\n",
    "print(data_apple.info())\n",
    "print(data_apple['new_brand'].value_counts())"
   ]
  },
  {
   "cell_type": "code",
   "execution_count": 840,
   "metadata": {},
   "outputs": [],
   "source": [
    "def clean_tweet(text):\n",
    "    # Remove hashtags (words starting with '#')\n",
    "    text = re.sub(r'#\\w+', '', text)\n",
    "    \n",
    "    # Handle RT tags\n",
    "    text = re.sub(r'[Rr][Tt]', '', text)\n",
    "    \n",
    "    # Remove mentions (words starting with '@')\n",
    "    text = re.sub(r'@\\w+', '', text)\n",
    "\n",
    "    # Remove URLs\n",
    "    text = re.sub(r'http\\S+|www\\S+|https\\S+', '', text)\n",
    "\n",
    "    # Remove non-ASCII characters\n",
    "    text = unicodedata.normalize('NFKD', text).encode('ascii', 'ignore').decode('utf-8')\n",
    "        \n",
    "    # Remove special characters and numbers not adjacent to text\n",
    "    text = re.sub(r'\\b\\d+\\b', '', text)\n",
    "\n",
    "    text = re.sub(r'[^\\w\\s]', '', text)  # Remove special characters\n",
    "    text = re.sub(r'\\s+', ' ', text)     # Remove extra spaces\n",
    "    \n",
    "    # Remove stopwords\n",
    "    stop_words = set(stopwords.words('english'))\n",
    "    cleaned_text = [word for word in text.split() if word not in stop_words]\n",
    "\n",
    "    # Unique words to remove, add more as needed\n",
    "    words_to_remove = ['Austin', 'Link', 'Sxsw', 'sxsw']\n",
    "\n",
    "    for word in words_to_remove:\n",
    "        cleaned_text = [w for w in cleaned_text if not re.match(r'\\b{}\\b'.format(word), w, flags=re.IGNORECASE)]\n",
    "\n",
    "    return ' '.join(cleaned_text)"
   ]
  },
  {
   "cell_type": "code",
   "execution_count": 841,
   "metadata": {},
   "outputs": [
    {
     "name": "stderr",
     "output_type": "stream",
     "text": [
      "<ipython-input-841-23b85c657d07>:2: SettingWithCopyWarning: \n",
      "A value is trying to be set on a copy of a slice from a DataFrame.\n",
      "Try using .loc[row_indexer,col_indexer] = value instead\n",
      "\n",
      "See the caveats in the documentation: https://pandas.pydata.org/pandas-docs/stable/user_guide/indexing.html#returning-a-view-versus-a-copy\n",
      "  data_apple['cleaned_tweet'] = data_apple['tweet'].apply(clean_tweet)\n"
     ]
    },
    {
     "data": {
      "text/html": [
       "<div>\n",
       "<style scoped>\n",
       "    .dataframe tbody tr th:only-of-type {\n",
       "        vertical-align: middle;\n",
       "    }\n",
       "\n",
       "    .dataframe tbody tr th {\n",
       "        vertical-align: top;\n",
       "    }\n",
       "\n",
       "    .dataframe thead th {\n",
       "        text-align: right;\n",
       "    }\n",
       "</style>\n",
       "<table border=\"1\" class=\"dataframe\">\n",
       "  <thead>\n",
       "    <tr style=\"text-align: right;\">\n",
       "      <th></th>\n",
       "      <th>tweet</th>\n",
       "      <th>brand_og</th>\n",
       "      <th>target</th>\n",
       "      <th>new_brand</th>\n",
       "      <th>cleaned_tweet</th>\n",
       "    </tr>\n",
       "  </thead>\n",
       "  <tbody>\n",
       "    <tr>\n",
       "      <th>0</th>\n",
       "      <td>.@wesley83 i have a 3g iphone. after 3 hrs twe...</td>\n",
       "      <td>iphone</td>\n",
       "      <td>-1</td>\n",
       "      <td>apple</td>\n",
       "      <td>3g iphone hrs tweeting dead need upgrade plugi...</td>\n",
       "    </tr>\n",
       "    <tr>\n",
       "      <th>1</th>\n",
       "      <td>@jessedee know about @fludapp ? awesome ipad/i...</td>\n",
       "      <td>ipad or iphone app</td>\n",
       "      <td>1</td>\n",
       "      <td>apple</td>\n",
       "      <td>know awesome ipadiphone app youll likely appre...</td>\n",
       "    </tr>\n",
       "    <tr>\n",
       "      <th>2</th>\n",
       "      <td>@swonderlin can not wait for #ipad 2 also. the...</td>\n",
       "      <td>ipad</td>\n",
       "      <td>1</td>\n",
       "      <td>apple</td>\n",
       "      <td>wait also sale</td>\n",
       "    </tr>\n",
       "    <tr>\n",
       "      <th>3</th>\n",
       "      <td>@sxsw i hope this year's festival isn't as cra...</td>\n",
       "      <td>ipad or iphone app</td>\n",
       "      <td>-1</td>\n",
       "      <td>apple</td>\n",
       "      <td>hope years festival isnt crashy years iphone app</td>\n",
       "    </tr>\n",
       "    <tr>\n",
       "      <th>5</th>\n",
       "      <td>@teachntech00 new ipad apps for #speechtherapy...</td>\n",
       "      <td>unknown</td>\n",
       "      <td>0</td>\n",
       "      <td>apple</td>\n",
       "      <td>new ipad apps communication showcased conference</td>\n",
       "    </tr>\n",
       "  </tbody>\n",
       "</table>\n",
       "</div>"
      ],
      "text/plain": [
       "                                               tweet            brand_og  \\\n",
       "0  .@wesley83 i have a 3g iphone. after 3 hrs twe...              iphone   \n",
       "1  @jessedee know about @fludapp ? awesome ipad/i...  ipad or iphone app   \n",
       "2  @swonderlin can not wait for #ipad 2 also. the...                ipad   \n",
       "3  @sxsw i hope this year's festival isn't as cra...  ipad or iphone app   \n",
       "5  @teachntech00 new ipad apps for #speechtherapy...             unknown   \n",
       "\n",
       "   target new_brand                                      cleaned_tweet  \n",
       "0      -1     apple  3g iphone hrs tweeting dead need upgrade plugi...  \n",
       "1       1     apple  know awesome ipadiphone app youll likely appre...  \n",
       "2       1     apple                                     wait also sale  \n",
       "3      -1     apple   hope years festival isnt crashy years iphone app  \n",
       "5       0     apple   new ipad apps communication showcased conference  "
      ]
     },
     "execution_count": 841,
     "metadata": {},
     "output_type": "execute_result"
    }
   ],
   "source": [
    "# Apply the clean_tweet function and see output\n",
    "data_apple['cleaned_tweet'] = data_apple['tweet'].apply(clean_tweet)\n",
    "data_apple.head()"
   ]
  },
  {
   "cell_type": "code",
   "execution_count": 842,
   "metadata": {},
   "outputs": [
    {
     "name": "stdout",
     "output_type": "stream",
     "text": [
      "Value counts for 'target':\n",
      " 0    2929\n",
      " 1    2144\n",
      "-1     420\n",
      "Name: target, dtype: int64\n",
      "\n",
      "Value counts for 'analysis':\n",
      " 1.0    2466\n",
      " 0.0    2464\n",
      "-1.0     563\n",
      "Name: analysis, dtype: int64\n"
     ]
    },
    {
     "name": "stderr",
     "output_type": "stream",
     "text": [
      "<ipython-input-842-a7674c79de06>:11: SettingWithCopyWarning: \n",
      "A value is trying to be set on a copy of a slice from a DataFrame.\n",
      "Try using .loc[row_indexer,col_indexer] = value instead\n",
      "\n",
      "See the caveats in the documentation: https://pandas.pydata.org/pandas-docs/stable/user_guide/indexing.html#returning-a-view-versus-a-copy\n",
      "  data_apple['polarity'] = data_apple['cleaned_tweet'].apply(lambda text: TextBlob(text).sentiment.polarity)\n",
      "<ipython-input-842-a7674c79de06>:12: SettingWithCopyWarning: \n",
      "A value is trying to be set on a copy of a slice from a DataFrame.\n",
      "Try using .loc[row_indexer,col_indexer] = value instead\n",
      "\n",
      "See the caveats in the documentation: https://pandas.pydata.org/pandas-docs/stable/user_guide/indexing.html#returning-a-view-versus-a-copy\n",
      "  data_apple['analysis'] = data_apple['polarity'].apply(ratio)\n",
      "<ipython-input-842-a7674c79de06>:13: SettingWithCopyWarning: \n",
      "A value is trying to be set on a copy of a slice from a DataFrame.\n",
      "Try using .loc[row_indexer,col_indexer] = value instead\n",
      "\n",
      "See the caveats in the documentation: https://pandas.pydata.org/pandas-docs/stable/user_guide/indexing.html#returning-a-view-versus-a-copy\n",
      "  data_apple['analysis'] = data_apple['analysis'].astype(float)\n",
      "<ipython-input-842-a7674c79de06>:14: SettingWithCopyWarning: \n",
      "A value is trying to be set on a copy of a slice from a DataFrame.\n",
      "Try using .loc[row_indexer,col_indexer] = value instead\n",
      "\n",
      "See the caveats in the documentation: https://pandas.pydata.org/pandas-docs/stable/user_guide/indexing.html#returning-a-view-versus-a-copy\n",
      "  data_apple['analysis'] = data_apple['analysis'].round(3)\n"
     ]
    }
   ],
   "source": [
    "# Creating function for calculating positive, negative and neutral\n",
    "def ratio(x):\n",
    " if x > 0:\n",
    "    return 1\n",
    " elif x == 0:\n",
    "    return 0\n",
    " else:\n",
    "    return -1\n",
    "\n",
    "# Creating new column and rounding to one decimal for easier viewing\n",
    "data_apple['polarity'] = data_apple['cleaned_tweet'].apply(lambda text: TextBlob(text).sentiment.polarity)\n",
    "data_apple['analysis'] = data_apple['polarity'].apply(ratio)\n",
    "data_apple['analysis'] = data_apple['analysis'].astype(float)\n",
    "data_apple['analysis'] = data_apple['analysis'].round(3)\n",
    "\n",
    "# Value counts for 'target'\n",
    "target_counts = data_apple['target'].value_counts()\n",
    "\n",
    "# Value counts for 'analysis'\n",
    "analysis_counts = data_apple['analysis'].value_counts()\n",
    "\n",
    "print(\"Value counts for 'target':\")\n",
    "print(target_counts)\n",
    "\n",
    "print(\"\\nValue counts for 'analysis':\")\n",
    "print(analysis_counts)"
   ]
  },
  {
   "cell_type": "code",
   "execution_count": 843,
   "metadata": {},
   "outputs": [
    {
     "name": "stdout",
     "output_type": "stream",
     "text": [
      "Value counts for 'target':\n",
      " 0.0    2647\n",
      " 1.0    2144\n",
      "-1.0     702\n",
      "Name: target, dtype: int64\n",
      "\n",
      "Value counts for 'analysis':\n",
      " 1.0    2466\n",
      " 0.0    2464\n",
      "-1.0     563\n",
      "Name: analysis, dtype: int64\n"
     ]
    },
    {
     "name": "stderr",
     "output_type": "stream",
     "text": [
      "c:\\Users\\sean8\\Anaconda3 Software\\envs\\learn-env\\lib\\site-packages\\pandas\\core\\indexing.py:1745: SettingWithCopyWarning: \n",
      "A value is trying to be set on a copy of a slice from a DataFrame.\n",
      "Try using .loc[row_indexer,col_indexer] = value instead\n",
      "\n",
      "See the caveats in the documentation: https://pandas.pydata.org/pandas-docs/stable/user_guide/indexing.html#returning-a-view-versus-a-copy\n",
      "  isetter(ilocs[0], value)\n"
     ]
    }
   ],
   "source": [
    "# Taking borderline negative tweets that are classified as neutral and converting them to negative to begin to address the imbalance\n",
    "data_apple.loc[(data_apple['target'] == 0) & (data_apple['analysis'] == -1), 'target'] = data_apple['analysis']\n",
    "\n",
    "# Value counts for 'target'\n",
    "target_counts = data_apple['target'].value_counts()\n",
    "\n",
    "# Value counts for 'analysis'\n",
    "analysis_counts = data_apple['analysis'].value_counts()\n",
    "\n",
    "print(\"Value counts for 'target':\")\n",
    "print(target_counts)\n",
    "\n",
    "print(\"\\nValue counts for 'analysis':\")\n",
    "print(analysis_counts)"
   ]
  },
  {
   "cell_type": "code",
   "execution_count": 844,
   "metadata": {},
   "outputs": [
    {
     "name": "stdout",
     "output_type": "stream",
     "text": [
      "Value counts for 'target':\n",
      " 1.0    2144\n",
      "-1.0     702\n",
      "Name: target, dtype: int64\n",
      "Negative sentiment is 24.7% of the data\n"
     ]
    }
   ],
   "source": [
    "# drop nuetral sentiment to focus on positive and negative sentiment for this itteration\n",
    "data_apple = data_apple.drop(data_apple[data_apple['target'] == 0.0].index)\n",
    "\n",
    "# Value counts for 'target'\n",
    "target_counts = data_apple['target'].value_counts()\n",
    "\n",
    "# Value counts for 'analysis'\n",
    "analysis_counts = data_apple['analysis'].value_counts()\n",
    "\n",
    "print(\"Value counts for 'target':\")\n",
    "print(target_counts)\n",
    "print(\"Negative sentiment is 24.7% of the data\")"
   ]
  },
  {
   "cell_type": "markdown",
   "metadata": {},
   "source": [
    "# Visualizations"
   ]
  },
  {
   "cell_type": "code",
   "execution_count": 845,
   "metadata": {},
   "outputs": [
    {
     "data": {
      "image/png": "[encoded data removed]",
      "text/plain": [
       "<Figure size 720x576 with 1 Axes>"
      ]
     },
     "metadata": {
      "needs_background": "light"
     },
     "output_type": "display_data"
    }
   ],
   "source": [
    "# Charting the top 10 most frequent words\n",
    "# Words to exclude\n",
    "exclude_words = ['ipad', 'apple', 'iphone', 'ipad2', 'im']\n",
    "\n",
    "# Remove the specified words from the frequencies list\n",
    "frequencies_filtered = [f for f in frequencies if f[0] not in exclude_words]\n",
    "\n",
    "# Convert the filtered list to a DataFrame\n",
    "df_frequencies_filtered = pd.DataFrame(frequencies_filtered, columns=['word', 'frequency'])\n",
    "\n",
    "# Plot the top 20 most frequent words as a horizontal bar graph\n",
    "plt.style.use('bmh')\n",
    "fig, ax = plt.subplots(figsize=(10, 8)) # Adjust the size to fit horizontal bars\n",
    "# Set the background color within the axes\n",
    "ax.set_facecolor('lightgrey')\n",
    "sns.barplot(x='frequency', y='word', data=df_frequencies_filtered.head(10), palette='Purples_r')\n",
    "ax.set_title('Top 10 Most Frequent Words', fontsize=16)\n",
    "ax.set(xlabel=None, ylabel=None)\n",
    "plt.tight_layout()\n",
    "\n",
    "\n",
    "\n",
    "plt.show()\n"
   ]
  },
  {
   "cell_type": "code",
   "execution_count": 846,
   "metadata": {},
   "outputs": [
    {
     "data": {
      "text/html": [
       "<div>\n",
       "<style scoped>\n",
       "    .dataframe tbody tr th:only-of-type {\n",
       "        vertical-align: middle;\n",
       "    }\n",
       "\n",
       "    .dataframe tbody tr th {\n",
       "        vertical-align: top;\n",
       "    }\n",
       "\n",
       "    .dataframe thead th {\n",
       "        text-align: right;\n",
       "    }\n",
       "</style>\n",
       "<table border=\"1\" class=\"dataframe\">\n",
       "  <thead>\n",
       "    <tr style=\"text-align: right;\">\n",
       "      <th></th>\n",
       "      <th>tweet</th>\n",
       "      <th>brand_og</th>\n",
       "      <th>target</th>\n",
       "      <th>new_brand</th>\n",
       "      <th>cleaned_tweet</th>\n",
       "      <th>polarity</th>\n",
       "      <th>analysis</th>\n",
       "    </tr>\n",
       "  </thead>\n",
       "  <tbody>\n",
       "    <tr>\n",
       "      <th>0</th>\n",
       "      <td>.@wesley83 i have a 3g iphone. after 3 hrs twe...</td>\n",
       "      <td>iphone</td>\n",
       "      <td>-1.0</td>\n",
       "      <td>apple</td>\n",
       "      <td>3g iphone hrs tweeting dead need upgrade plugi...</td>\n",
       "      <td>-0.200000</td>\n",
       "      <td>-1.0</td>\n",
       "    </tr>\n",
       "    <tr>\n",
       "      <th>1</th>\n",
       "      <td>@jessedee know about @fludapp ? awesome ipad/i...</td>\n",
       "      <td>ipad or iphone app</td>\n",
       "      <td>1.0</td>\n",
       "      <td>apple</td>\n",
       "      <td>know awesome ipadiphone app youll likely appre...</td>\n",
       "      <td>0.466667</td>\n",
       "      <td>1.0</td>\n",
       "    </tr>\n",
       "    <tr>\n",
       "      <th>2</th>\n",
       "      <td>@swonderlin can not wait for #ipad 2 also. the...</td>\n",
       "      <td>ipad</td>\n",
       "      <td>1.0</td>\n",
       "      <td>apple</td>\n",
       "      <td>wait also sale</td>\n",
       "      <td>0.000000</td>\n",
       "      <td>0.0</td>\n",
       "    </tr>\n",
       "    <tr>\n",
       "      <th>3</th>\n",
       "      <td>@sxsw i hope this year's festival isn't as cra...</td>\n",
       "      <td>ipad or iphone app</td>\n",
       "      <td>-1.0</td>\n",
       "      <td>apple</td>\n",
       "      <td>hope years festival isnt crashy years iphone app</td>\n",
       "      <td>0.000000</td>\n",
       "      <td>0.0</td>\n",
       "    </tr>\n",
       "    <tr>\n",
       "      <th>8</th>\n",
       "      <td>beautifully smart and simple idea rt @madebyma...</td>\n",
       "      <td>ipad or iphone app</td>\n",
       "      <td>1.0</td>\n",
       "      <td>apple</td>\n",
       "      <td>beautifully sma simple idea wrote ipad app</td>\n",
       "      <td>0.425000</td>\n",
       "      <td>1.0</td>\n",
       "    </tr>\n",
       "  </tbody>\n",
       "</table>\n",
       "</div>"
      ],
      "text/plain": [
       "                                               tweet            brand_og  \\\n",
       "0  .@wesley83 i have a 3g iphone. after 3 hrs twe...              iphone   \n",
       "1  @jessedee know about @fludapp ? awesome ipad/i...  ipad or iphone app   \n",
       "2  @swonderlin can not wait for #ipad 2 also. the...                ipad   \n",
       "3  @sxsw i hope this year's festival isn't as cra...  ipad or iphone app   \n",
       "8  beautifully smart and simple idea rt @madebyma...  ipad or iphone app   \n",
       "\n",
       "   target new_brand                                      cleaned_tweet  \\\n",
       "0    -1.0     apple  3g iphone hrs tweeting dead need upgrade plugi...   \n",
       "1     1.0     apple  know awesome ipadiphone app youll likely appre...   \n",
       "2     1.0     apple                                     wait also sale   \n",
       "3    -1.0     apple   hope years festival isnt crashy years iphone app   \n",
       "8     1.0     apple         beautifully sma simple idea wrote ipad app   \n",
       "\n",
       "   polarity  analysis  \n",
       "0 -0.200000      -1.0  \n",
       "1  0.466667       1.0  \n",
       "2  0.000000       0.0  \n",
       "3  0.000000       0.0  \n",
       "8  0.425000       1.0  "
      ]
     },
     "execution_count": 846,
     "metadata": {},
     "output_type": "execute_result"
    }
   ],
   "source": [
    "data_apple.head()"
   ]
  },
  {
   "cell_type": "code",
   "execution_count": 847,
   "metadata": {},
   "outputs": [],
   "source": [
    "# Convert tokenized tweets back to strings for WordCloud visualizations\n",
    "data_apple['cleaned_tweet_str'] = data_apple['cleaned_tweet'].apply(lambda tokens: ' '.join(tokens))\n",
    "data_apple['cleaned_tweet_str'].astype(str)\n",
    "\n",
    "# Creating dataframes for positive, neutral, and negative sentiments\n",
    "df_pos = data_apple[data_apple['target'] == 1]\n",
    "df_neg = data_apple[data_apple['target'] == -1]"
   ]
  },
  {
   "cell_type": "code",
   "execution_count": 848,
   "metadata": {},
   "outputs": [],
   "source": [
    "def generate_word_cloud(text):\n",
    "    if text:  # Check if the text string is empty\n",
    "        wordcloud = WordCloud(width=800, height=800,\n",
    "                              background_color='white',\n",
    "                              colormap='Oranges',\n",
    "                              min_font_size=10).generate(text)\n",
    "\n",
    "        plt.figure(figsize=(5, 5), facecolor=None)\n",
    "        plt.imshow(wordcloud)\n",
    "        plt.axis(\"off\")\n",
    "        plt.tight_layout(pad=0)\n",
    "    else:\n",
    "        print(\"The text for wordcloud is empty.\")"
   ]
  },
  {
   "cell_type": "code",
   "execution_count": 849,
   "metadata": {},
   "outputs": [],
   "source": [
    "def extract_prod(df, prod, str_replace):\n",
    "    '''Extract a new dataframe using prod string as filter'''\n",
    "\n",
    "    # Make a new DataFrame series using input df\n",
    "    df_new = df['cleaned_tweet_str'].astype(str)\n",
    "\n",
    "    # Filter for rows only including specific prod string\n",
    "    filtered_df = df_new[df_new.str.contains(prod)]\n",
    "\n",
    "    # Remove all substrings from str_replace list\n",
    "    pattern = '|'.join(map(re.escape, str_replace))\n",
    "    filtered_df = filtered_df.str.replace(pattern, '')\n",
    "\n",
    "    # Return filtered_df of tweets only related to input prod string\n",
    "    return filtered_df"
   ]
  },
  {
   "cell_type": "code",
   "execution_count": 850,
   "metadata": {},
   "outputs": [],
   "source": [
    "\n",
    "def prod_wordcloud(df_tweet, product, list_remove):\n",
    "    ''' Takes in df_tweet, filters by input product string, then creates\n",
    "        positive, negative, and neutral wordclouds for product'''\n",
    "    \n",
    "    # Convert product string to title for visualization purposes\n",
    "    prod = product.title()\n",
    "\n",
    "    # Extracting tweets by input product for positive sentiment dataframe\n",
    "    df_posit = extract_prod(df_pos, product, list_remove)\n",
    "\n",
    "    # Join all the tweets together\n",
    "    text_positive = ' '.join(df_posit)\n",
    "\n",
    "    # Generate wordcloud for positive sentiments for input product\n",
    "    generate_word_cloud(text_positive)\n",
    "    plt.title(f\"Word Cloud - {prod} Positive Sentiment\")\n",
    "    plt.show()\n",
    "\n",
    "    # Extracting tweets by input product for negative sentiment dataframe\n",
    "    df_negat = extract_prod(df_neg, product, list_remove)\n",
    "\n",
    "    # Join all the tweets together\n",
    "    text_negative = ' '.join(df_negat)\n",
    "\n",
    "    # Generate wordcloud for negative sentiments for input product\n",
    "    generate_word_cloud(text_negative)\n",
    "    plt.title(f\"Word Cloud - {prod} Negative Sentiment\")\n",
    "    plt.show()"
   ]
  },
  {
   "cell_type": "code",
   "execution_count": 851,
   "metadata": {},
   "outputs": [
    {
     "name": "stdout",
     "output_type": "stream",
     "text": [
      "The text for wordcloud is empty.\n"
     ]
    },
    {
     "data": {
      "image/png": "[encoded data removed]",
      "text/plain": [
       "<Figure size 432x288 with 1 Axes>"
      ]
     },
     "metadata": {
      "needs_background": "light"
     },
     "output_type": "display_data"
    },
    {
     "name": "stdout",
     "output_type": "stream",
     "text": [
      "The text for wordcloud is empty.\n"
     ]
    },
    {
     "data": {
      "image/png": "[encoded data removed]",
      "text/plain": [
       "<Figure size 432x288 with 1 Axes>"
      ]
     },
     "metadata": {
      "needs_background": "light"
     },
     "output_type": "display_data"
    }
   ],
   "source": [
    "# WordCloud function for ipad products\n",
    "prod_wordcloud(data_apple, 'ipad', apple)"
   ]
  },
  {
   "cell_type": "markdown",
   "metadata": {},
   "source": [
    "# Modeling"
   ]
  },
  {
   "cell_type": "code",
   "execution_count": 852,
   "metadata": {},
   "outputs": [],
   "source": [
    "X = data_apple['cleaned_tweet']\n",
    "y = data_apple['target']\n",
    "\n",
    "X_train, X_test, y_train, y_test = train_test_split(X, y, random_state=42)"
   ]
  },
  {
   "cell_type": "code",
   "execution_count": 853,
   "metadata": {},
   "outputs": [],
   "source": [
    "# Default parameters\n",
    "default_models = {\n",
    "    'LogisticRegression': {'classifier': LogisticRegression(random_state=42)},\n",
    "    'MultinomialNB': {'classifier': MultinomialNB()},\n",
    "    'DecisionTree': {'classifier': DecisionTreeClassifier(random_state=42)},\n",
    "    'RandomForest': {'classifier': RandomForestClassifier(random_state=42)},\n",
    "    'ExtraTrees': {'classifier': ExtraTreesClassifier(random_state=42)},\n",
    "    'GradientBoost': {'classifier':GradientBoostingClassifier(random_state=42)},\n",
    "    'SGDClassifier': {'classifier': SGDClassifier(random_state=42)}}"
   ]
  },
  {
   "cell_type": "code",
   "execution_count": 854,
   "metadata": {},
   "outputs": [],
   "source": [
    "def run_model_with_grid_search_and_cv(models, model_type, cmap, X, y, n_splits=5):\n",
    "    '''\n",
    "    Fits the model on the data with grid search for hyperparameter tuning,\n",
    "    performs k-fold cross-validation, and returns the confusion matrix, accuracy, \n",
    "    f1 score, and classification report.\n",
    "    '''\n",
    "    metric_table = pd.DataFrame(columns=['Model', 'CV Score', 'Accuracy', 'F1 Score', 'Type'])\n",
    "\n",
    "    # Hyperparameter grids for each model\n",
    "    param_grids = {\n",
    "        'LogisticRegression': {\n",
    "            'classifier__C': [0.1, 1, 10],\n",
    "            'classifier__penalty': ['l2'],\n",
    "            'classifier__max_iter': [100, 500, 1000]\n",
    "        },\n",
    "        'MultinomialNB': {\n",
    "            'classifier__alpha': [0.1, 1.0, 10.0],\n",
    "        },\n",
    "        'RandomForest': {\n",
    "            'classifier__n_estimators': [50, 100, 200],\n",
    "            'classifier__max_depth': [None, 10, 20],\n",
    "        },\n",
    "        'DecisionTree': {  # Add the hyperparameters for DecisionTree\n",
    "            'classifier__max_depth': [None, 10, 20, 30],\n",
    "            'classifier__min_samples_split': [2, 5, 10],\n",
    "            'classifier__min_samples_leaf': [1, 2, 4]\n",
    "        },\n",
    "        'ExtraTrees': {\n",
    "            'classifier__n_estimators': [10, 50, 100, 200],\n",
    "            'classifier__max_depth': [None, 10, 20, 30],\n",
    "            'classifier__min_samples_split': [2, 5, 10]\n",
    "        },\n",
    "        'GradientBoost': {\n",
    "            'classifier__n_estimators': [100, 200, 300],\n",
    "            'classifier__learning_rate': [0.1, 0.01, 0.001],\n",
    "            'classifier__max_depth': [3, 5, 10]\n",
    "        },\n",
    "        'SGDClassifier': {\n",
    "            'classifier__alpha': [0.0001, 0.001, 0.01, 0.1],\n",
    "            'classifier__loss': ['hinge', 'log'],\n",
    "            'classifier__penalty': ['none', 'l2', 'l1', 'elasticnet']\n",
    "        }\n",
    "    }\n",
    "\n",
    "    for name, model in models.items():\n",
    "        print(f'Running... {name} Model')\n",
    "        pipeline = Pipeline(steps=[('tfidf', TfidfVectorizer()), ('classifier', model['classifier'])])\n",
    "\n",
    "        # Perform grid search with cross-validation\n",
    "        grid_search = GridSearchCV(pipeline, param_grids[name], cv=KFold(n_splits=n_splits, shuffle=True, random_state=42), n_jobs=-1)\n",
    "        grid_search.fit(X, y)\n",
    "\n",
    "        # Print the best hyperparameters\n",
    "        print(f'Best hyperparameters for {name}: {grid_search.best_params_}')\n",
    "\n",
    "        # Perform k-fold cross-validation\n",
    "        cross_val_pred = cross_val_predict(grid_search.best_estimator_, X, y, cv=KFold(n_splits=n_splits, shuffle=True, random_state=42))\n",
    "        cross_val_mean = round(np.mean(cross_val_pred == y), 4)\n",
    "        f1 = f1_score(y, cross_val_pred, average='weighted')\n",
    "        accuracy = accuracy_score(y, cross_val_pred)\n",
    "        \n",
    "        metric_table = metric_table.append({'Model': name, \n",
    "                                            'CV Score': cross_val_mean, \n",
    "                                            'Accuracy': accuracy, \n",
    "                                            'F1 Score': round(f1, 4),\n",
    "                                            'Type': model_type}, ignore_index=True)\n",
    "\n",
    "        print(f'Cross Validation Score: {cross_val_mean}')\n",
    "        print(f'Test Accuracy Score: {accuracy}')\n",
    "        print(f'F1 Score: {round(f1, 4)}\\n')\n",
    "        print(f'Classification Report for {name} Model:')\n",
    "        print(classification_report(y, cross_val_pred))\n",
    "\n",
    "        fig, ax = plt.subplots()\n",
    "        confusion_matrix(grid_search.best_estimator_, X, y, \n",
    "                              display_labels=['Negative', 'Positive'], \n",
    "                              ax=ax, normalize='true', cmap=cmap)\n",
    "\n",
    "        plt.title(f'{model_type} {name} Confusion Matrix')\n",
    "        plt.grid(False)\n",
    "\n",
    "        plt.show()\n",
    "\n",
    "    # Sort the metric table by F1 scores in descending order\n",
    "    metric_table.sort_values(by='F1 Score', ascending=False, inplace=True)\n",
    "\n",
    "    return metric_table"
   ]
  },
  {
   "cell_type": "code",
   "execution_count": 855,
   "metadata": {},
   "outputs": [
    {
     "name": "stdout",
     "output_type": "stream",
     "text": [
      "Running... LogisticRegression Model\n",
      "Best hyperparameters for LogisticRegression: {'classifier__C': 10, 'classifier__max_iter': 100, 'classifier__penalty': 'l2'}\n",
      "Cross Validation Score: 0.8112\n",
      "Test Accuracy Score: 0.8111527647610122\n",
      "F1 Score: 0.7937\n",
      "\n",
      "Classification Report for LogisticRegression Model:\n",
      "              precision    recall  f1-score   support\n",
      "\n",
      "        -1.0       0.69      0.42      0.52       526\n",
      "         1.0       0.83      0.94      0.88      1608\n",
      "\n",
      "    accuracy                           0.81      2134\n",
      "   macro avg       0.76      0.68      0.70      2134\n",
      "weighted avg       0.80      0.81      0.79      2134\n",
      "\n"
     ]
    },
    {
     "ename": "TypeError",
     "evalue": "too many positional arguments",
     "output_type": "error",
     "traceback": [
      "\u001b[1;31m---------------------------------------------------------------------------\u001b[0m",
      "\u001b[1;31mTypeError\u001b[0m                                 Traceback (most recent call last)",
      "\u001b[1;32m<ipython-input-855-af8787fdff16>\u001b[0m in \u001b[0;36m<module>\u001b[1;34m\u001b[0m\n\u001b[0;32m      2\u001b[0m \u001b[1;33m\u001b[0m\u001b[0m\n\u001b[0;32m      3\u001b[0m \u001b[1;31m# Run the function on the data with k-fold cross-validation (n_splits=3)\u001b[0m\u001b[1;33m\u001b[0m\u001b[1;33m\u001b[0m\u001b[1;33m\u001b[0m\u001b[0m\n\u001b[1;32m----> 4\u001b[1;33m \u001b[0mmetric_table_train\u001b[0m \u001b[1;33m=\u001b[0m \u001b[0mrun_model_with_grid_search_and_cv\u001b[0m\u001b[1;33m(\u001b[0m\u001b[0mdefault_models\u001b[0m\u001b[1;33m,\u001b[0m \u001b[1;34m'Sentiment'\u001b[0m\u001b[1;33m,\u001b[0m \u001b[0mcmap\u001b[0m\u001b[1;33m,\u001b[0m \u001b[0mX_train\u001b[0m\u001b[1;33m,\u001b[0m \u001b[0my_train\u001b[0m\u001b[1;33m,\u001b[0m \u001b[0mn_splits\u001b[0m\u001b[1;33m=\u001b[0m\u001b[1;36m5\u001b[0m\u001b[1;33m)\u001b[0m\u001b[1;33m\u001b[0m\u001b[1;33m\u001b[0m\u001b[0m\n\u001b[0m",
      "\u001b[1;32m<ipython-input-854-f897e121cf75>\u001b[0m in \u001b[0;36mrun_model_with_grid_search_and_cv\u001b[1;34m(models, model_type, cmap, X, y, n_splits)\u001b[0m\n\u001b[0;32m     73\u001b[0m \u001b[1;33m\u001b[0m\u001b[0m\n\u001b[0;32m     74\u001b[0m         \u001b[0mfig\u001b[0m\u001b[1;33m,\u001b[0m \u001b[0max\u001b[0m \u001b[1;33m=\u001b[0m \u001b[0mplt\u001b[0m\u001b[1;33m.\u001b[0m\u001b[0msubplots\u001b[0m\u001b[1;33m(\u001b[0m\u001b[1;33m)\u001b[0m\u001b[1;33m\u001b[0m\u001b[1;33m\u001b[0m\u001b[0m\n\u001b[1;32m---> 75\u001b[1;33m         confusion_matrix(grid_search.best_estimator_, X, y, \n\u001b[0m\u001b[0;32m     76\u001b[0m                               \u001b[0mdisplay_labels\u001b[0m\u001b[1;33m=\u001b[0m\u001b[1;33m[\u001b[0m\u001b[1;34m'Negative'\u001b[0m\u001b[1;33m,\u001b[0m \u001b[1;34m'Positive'\u001b[0m\u001b[1;33m]\u001b[0m\u001b[1;33m,\u001b[0m\u001b[1;33m\u001b[0m\u001b[1;33m\u001b[0m\u001b[0m\n\u001b[0;32m     77\u001b[0m                               ax=ax, normalize='true', cmap=cmap)\n",
      "\u001b[1;32mc:\\Users\\sean8\\Anaconda3 Software\\envs\\learn-env\\lib\\site-packages\\sklearn\\utils\\_param_validation.py\u001b[0m in \u001b[0;36mwrapper\u001b[1;34m(*args, **kwargs)\u001b[0m\n\u001b[0;32m    187\u001b[0m \u001b[1;33m\u001b[0m\u001b[0m\n\u001b[0;32m    188\u001b[0m             \u001b[1;31m# Map *args/**kwargs to the function signature\u001b[0m\u001b[1;33m\u001b[0m\u001b[1;33m\u001b[0m\u001b[1;33m\u001b[0m\u001b[0m\n\u001b[1;32m--> 189\u001b[1;33m             \u001b[0mparams\u001b[0m \u001b[1;33m=\u001b[0m \u001b[0mfunc_sig\u001b[0m\u001b[1;33m.\u001b[0m\u001b[0mbind\u001b[0m\u001b[1;33m(\u001b[0m\u001b[1;33m*\u001b[0m\u001b[0margs\u001b[0m\u001b[1;33m,\u001b[0m \u001b[1;33m**\u001b[0m\u001b[0mkwargs\u001b[0m\u001b[1;33m)\u001b[0m\u001b[1;33m\u001b[0m\u001b[1;33m\u001b[0m\u001b[0m\n\u001b[0m\u001b[0;32m    190\u001b[0m             \u001b[0mparams\u001b[0m\u001b[1;33m.\u001b[0m\u001b[0mapply_defaults\u001b[0m\u001b[1;33m(\u001b[0m\u001b[1;33m)\u001b[0m\u001b[1;33m\u001b[0m\u001b[1;33m\u001b[0m\u001b[0m\n\u001b[0;32m    191\u001b[0m \u001b[1;33m\u001b[0m\u001b[0m\n",
      "\u001b[1;32mc:\\Users\\sean8\\Anaconda3 Software\\envs\\learn-env\\lib\\inspect.py\u001b[0m in \u001b[0;36mbind\u001b[1;34m(self, *args, **kwargs)\u001b[0m\n\u001b[0;32m   3023\u001b[0m         \u001b[1;32mif\u001b[0m \u001b[0mthe\u001b[0m \u001b[0mpassed\u001b[0m \u001b[0marguments\u001b[0m \u001b[0mcan\u001b[0m \u001b[1;32mnot\u001b[0m \u001b[0mbe\u001b[0m \u001b[0mbound\u001b[0m\u001b[1;33m.\u001b[0m\u001b[1;33m\u001b[0m\u001b[1;33m\u001b[0m\u001b[0m\n\u001b[0;32m   3024\u001b[0m         \"\"\"\n\u001b[1;32m-> 3025\u001b[1;33m         \u001b[1;32mreturn\u001b[0m \u001b[0mself\u001b[0m\u001b[1;33m.\u001b[0m\u001b[0m_bind\u001b[0m\u001b[1;33m(\u001b[0m\u001b[0margs\u001b[0m\u001b[1;33m,\u001b[0m \u001b[0mkwargs\u001b[0m\u001b[1;33m)\u001b[0m\u001b[1;33m\u001b[0m\u001b[1;33m\u001b[0m\u001b[0m\n\u001b[0m\u001b[0;32m   3026\u001b[0m \u001b[1;33m\u001b[0m\u001b[0m\n\u001b[0;32m   3027\u001b[0m     \u001b[1;32mdef\u001b[0m \u001b[0mbind_partial\u001b[0m\u001b[1;33m(\u001b[0m\u001b[0mself\u001b[0m\u001b[1;33m,\u001b[0m \u001b[1;33m/\u001b[0m\u001b[1;33m,\u001b[0m \u001b[1;33m*\u001b[0m\u001b[0margs\u001b[0m\u001b[1;33m,\u001b[0m \u001b[1;33m**\u001b[0m\u001b[0mkwargs\u001b[0m\u001b[1;33m)\u001b[0m\u001b[1;33m:\u001b[0m\u001b[1;33m\u001b[0m\u001b[1;33m\u001b[0m\u001b[0m\n",
      "\u001b[1;32mc:\\Users\\sean8\\Anaconda3 Software\\envs\\learn-env\\lib\\inspect.py\u001b[0m in \u001b[0;36m_bind\u001b[1;34m(self, args, kwargs, partial)\u001b[0m\n\u001b[0;32m   2949\u001b[0m                         \u001b[1;31m# Looks like we have no parameter for this positional\u001b[0m\u001b[1;33m\u001b[0m\u001b[1;33m\u001b[0m\u001b[1;33m\u001b[0m\u001b[0m\n\u001b[0;32m   2950\u001b[0m                         \u001b[1;31m# argument\u001b[0m\u001b[1;33m\u001b[0m\u001b[1;33m\u001b[0m\u001b[1;33m\u001b[0m\u001b[0m\n\u001b[1;32m-> 2951\u001b[1;33m                         raise TypeError(\n\u001b[0m\u001b[0;32m   2952\u001b[0m                             'too many positional arguments') from None\n\u001b[0;32m   2953\u001b[0m \u001b[1;33m\u001b[0m\u001b[0m\n",
      "\u001b[1;31mTypeError\u001b[0m: too many positional arguments"
     ]
    },
    {
     "data": {
      "image/png": "[encoded data removed]",
      "text/plain": [
       "<Figure size 432x288 with 1 Axes>"
      ]
     },
     "metadata": {
      "needs_background": "light"
     },
     "output_type": "display_data"
    }
   ],
   "source": [
    "cmap = 'Purples_r'  # Define the colormap variable\n",
    "\n",
    "# Run the function on the data with k-fold cross-validation (n_splits=3)\n",
    "metric_table_train = run_model_with_grid_search_and_cv(default_models, 'Sentiment', cmap, X_train, y_train, n_splits=5)"
   ]
  },
  {
   "cell_type": "code",
   "execution_count": null,
   "metadata": {},
   "outputs": [],
   "source": [
    "### Need to add chart showing F1 score by model that was used in the presentation"
   ]
  },
  {
   "cell_type": "markdown",
   "metadata": {},
   "source": [
    "# Next Steps\n",
    "* Acquire recent data from Twitter.\n",
    "* Look into alternate ways of dealing with the imbalanced data.\n",
    "* Use deep learning models to capture complex patterns in the data.\n",
    "* Hand review target/sentiment to imporve sentiment classification.\n",
    "\n",
    "# Conclusion\n",
    "We were able to get an F1 score of 80% by using stochastic gradient descent (SGD) and if we continue to develop this model and the underlying data we can improve this score further. Based on the word clouds we suggest that Apple's product development team and marketing team focus on app functionality, improving battery life and ensure design is appealing to customers. We can use this model to test small changes to apps by utilizing new twitter data.\n"
   ]
  },
  {
   "cell_type": "markdown",
   "metadata": {},
   "source": []
  }
 ],
 "metadata": {
  "kernelspec": {
   "display_name": "learn-env",
   "language": "python",
   "name": "python3"
  },
  "language_info": {
   "codemirror_mode": {
    "name": "ipython",
    "version": 3
   },
   "file_extension": ".py",
   "mimetype": "text/x-python",
   "name": "python",
   "nbconvert_exporter": "python",
   "pygments_lexer": "ipython3",
   "version": "3.8.5"
  },
  "orig_nbformat": 4
 },
 "nbformat": 4,
 "nbformat_minor": 2
}
