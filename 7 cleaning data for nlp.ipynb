{
 "cells": [
  {
   "cell_type": "code",
   "execution_count": 367,
   "metadata": {},
   "outputs": [],
   "source": [
    "# Import the necessary libraries\n",
    "import wordcloud\n",
    "import nltk\n",
    "import textblob\n",
    "import pandas as pd\n",
    "import seaborn as sns\n",
    "import matplotlib.pyplot as plt\n",
    "from sklearn.model_selection import train_test_split\n",
    "import matplotlib_inline\n",
    "import nltk\n",
    "from wordcloud import WordCloud\n",
    "from textblob import TextBlob\n",
    "import re\n",
    "from sklearn.feature_extraction.text import CountVectorizer, TfidfVectorizer\n",
    "from nltk.stem.wordnet import WordNetLemmatizer\n",
    "lemmatizer = nltk.stem.WordNetLemmatizer()\n",
    "from nltk.tokenize import TweetTokenizer\n",
    "from nltk.corpus import stopwords\n",
    "import unicodedata\n",
    "from spellchecker import SpellChecker\n",
    "#import warnings\n",
    "#warnings.simplefilter(\"ignore\")\n"
   ]
  },
  {
   "cell_type": "code",
   "execution_count": 368,
   "metadata": {},
   "outputs": [
    {
     "name": "stdout",
     "output_type": "stream",
     "text": [
      "<class 'pandas.core.frame.DataFrame'>\n",
      "Int64Index: 8936 entries, 0 to 9092\n",
      "Data columns (total 3 columns):\n",
      " #   Column    Non-Null Count  Dtype  \n",
      "---  ------    --------------  -----  \n",
      " 0   tweet     8936 non-null   object \n",
      " 1   brand_og  8936 non-null   object \n",
      " 2   target    8936 non-null   float64\n",
      "dtypes: float64(1), object(2)\n",
      "memory usage: 279.2+ KB\n"
     ]
    }
   ],
   "source": [
    "# Read in the file with the correct encoding\n",
    "data = pd.read_csv('brandandproductemotions.csv', encoding='latin1')\n",
    "\n",
    "# Display the first few rows of the data and rename colummns\n",
    "data.columns = ['tweet', 'brand_og', 'target']\n",
    "\n",
    "############## updated this to new scale for Textblob analysis\n",
    "# rename target column values to simpler expressions\n",
    "emotions = {'Negative emotion': 'negative','Positive emotion':'positive','No emotion toward brand or product':'neutral', 'I cant tell':'unknown'}\n",
    "data['target'] = data['target'].map(emotions)\n",
    "emotions = {'neutral':0, 'positive':1, 'negative':-1}\n",
    "data['target'] = data['target'].map(emotions)\n",
    "\n",
    "# Replace NaN with \"unknown\" in the 'brand_og' column\n",
    "data['brand_og'].fillna('unknown', inplace=True)\n",
    "\n",
    "# make all cells lower\n",
    "data = data.applymap(lambda s: s.lower() if type(s) == str else s)\n",
    "\n",
    "# key words to search for to ID brand\n",
    "apple = ['iphone',\n",
    "         'ipad',\n",
    "         'itunes',\n",
    "         'apple']\n",
    "android = ['google',\n",
    "           'samsung',\n",
    "           'android']\n",
    "\n",
    "##############\n",
    "# Drop null in 'target' and 'tweet'\n",
    "data = data.dropna(subset=['target', 'tweet'])\n",
    "\n",
    "\n",
    "\n",
    "data.info()"
   ]
  },
  {
   "cell_type": "code",
   "execution_count": 369,
   "metadata": {},
   "outputs": [],
   "source": [
    "# function to create new brand column based on values in tweet\n",
    "def check_substring(tweet):\n",
    "    # check if any of the sub strings appear individually\n",
    "    apple_list = any(substring in tweet for substring in apple)\n",
    "    android_list = any(substring in tweet for substring in android)\n",
    "\n",
    "    if apple_list and android_list:\n",
    "        return \"both\"\n",
    "    elif apple_list:\n",
    "        return \"apple\"\n",
    "    elif android_list:\n",
    "        return \"android\"\n",
    "    else:\n",
    "        return \"unkown\"\n",
    "\n",
    "data['new_brand'] = data['tweet'].apply(check_substring)"
   ]
  },
  {
   "cell_type": "code",
   "execution_count": 370,
   "metadata": {},
   "outputs": [
    {
     "name": "stdout",
     "output_type": "stream",
     "text": [
      "<class 'pandas.core.frame.DataFrame'>\n",
      "Int64Index: 8936 entries, 0 to 9092\n",
      "Data columns (total 4 columns):\n",
      " #   Column     Non-Null Count  Dtype  \n",
      "---  ------     --------------  -----  \n",
      " 0   tweet      8936 non-null   object \n",
      " 1   brand_og   8936 non-null   object \n",
      " 2   target     8936 non-null   float64\n",
      " 3   new_brand  8936 non-null   object \n",
      "dtypes: float64(1), object(3)\n",
      "memory usage: 349.1+ KB\n"
     ]
    }
   ],
   "source": [
    "# Value counts for 'target'\n",
    "#target_counts = data['target'].value_counts()\n",
    "#print(\"Value counts for 'target':\")\n",
    "#print(target_counts)\n",
    "\n",
    "# Value counts for 'analysis'\n",
    "#analysis_counts = data['analysis'].value_counts()\n",
    "#print(\"\\nValue counts for 'analysis':\")\n",
    "#print(analysis_counts)\n",
    "\n",
    "data.info()"
   ]
  },
  {
   "cell_type": "code",
   "execution_count": 371,
   "metadata": {},
   "outputs": [
    {
     "data": {
      "text/plain": [
       "apple      5237\n",
       "android    2727\n",
       "unkown      716\n",
       "both        256\n",
       "Name: new_brand, dtype: int64"
      ]
     },
     "execution_count": 371,
     "metadata": {},
     "output_type": "execute_result"
    }
   ],
   "source": [
    "data['new_brand'].value_counts()"
   ]
  },
  {
   "cell_type": "code",
   "execution_count": 372,
   "metadata": {},
   "outputs": [
    {
     "name": "stdout",
     "output_type": "stream",
     "text": [
      "<class 'pandas.core.frame.DataFrame'>\n",
      "Int64Index: 6209 entries, 0 to 9091\n",
      "Data columns (total 4 columns):\n",
      " #   Column     Non-Null Count  Dtype  \n",
      "---  ------     --------------  -----  \n",
      " 0   tweet      6209 non-null   object \n",
      " 1   brand_og   6209 non-null   object \n",
      " 2   target     6209 non-null   float64\n",
      " 3   new_brand  6209 non-null   object \n",
      "dtypes: float64(1), object(3)\n",
      "memory usage: 242.5+ KB\n",
      "None\n",
      "apple     5237\n",
      "unkown     716\n",
      "both       256\n",
      "Name: new_brand, dtype: int64\n"
     ]
    }
   ],
   "source": [
    "# drop android and unknown\n",
    "\n",
    "#### LOOK AT REORDERING THIS IT DOESNT FLOW WELL RIGHT NOW\n",
    "data_apple = data[~data['new_brand'].isin(['android', 'unknown'])]\n",
    "print(data_apple.info())\n",
    "print(data_apple['new_brand'].value_counts())"
   ]
  },
  {
   "cell_type": "code",
   "execution_count": 373,
   "metadata": {},
   "outputs": [
    {
     "data": {
      "text/plain": [
       "apple     5237\n",
       "unkown     716\n",
       "both       256\n",
       "Name: new_brand, dtype: int64"
      ]
     },
     "execution_count": 373,
     "metadata": {},
     "output_type": "execute_result"
    }
   ],
   "source": [
    "data_apple['new_brand'].value_counts()"
   ]
  },
  {
   "cell_type": "markdown",
   "metadata": {},
   "source": [
    "def hashtag_extract(x):\n",
    "    hashtags = []\n",
    "    # Loop over the words in the tweet\n",
    "    for i in x:\n",
    "        ht = re.findall(r\"#(\\w+)\", str(i))\n",
    "        hashtags.append(ht)\n",
    "\n",
    "    return hashtags"
   ]
  },
  {
   "cell_type": "markdown",
   "metadata": {},
   "source": [
    "# Apply the hashtag_extract function to the 'tweet' column\n",
    "data_apple['hashtags'] = data_apple['tweet'].apply(hashtag_extract)\n",
    "\n",
    "# Now, the 'hashtags' column will contain a list of hashtags extracted from each tweet\n",
    "print(data_apple[['tweet', 'hashtags']])"
   ]
  },
  {
   "cell_type": "code",
   "execution_count": 374,
   "metadata": {},
   "outputs": [],
   "source": [
    "\n",
    "# DONE - Text Standardization: Convert all the text to a standard format, typically lowercase, to ensure uniformity across the entire dataset.\n",
    "\n",
    "# DONE - Tokenization: Break the text into individual words or tokens. You can use libraries like NLTK (Natural Language Toolkit) or SpaCy for tokenization.\n",
    "\n",
    "# DONE of URLs: Since URLs do not provide useful information for NLP tasks, it's recommended to remove them. This can be achieved using regular expressions.\n",
    "\n",
    "# DONE - Removing @ mentions and Hashtags: The \"@\" mentions and \"#\" hashtags can be removed using regular expressions. Alternatively, you may want to replace them with the appropriate words that they are signifying. This can vary based on the specifics of your project.\n",
    "\n",
    "# DONE - Removing Emoji and Emoticons: These can either skew your model (since they may not be present in your training set) or they could be turned into standardized text. For example, :) can be converted to the word 'smile'. You can use an emoji library for this purpose.\n",
    "\n",
    "# DONE - Removing Punctuation: Punctuation can be removed using regular expressions or string manipulation functions.\n",
    "\n",
    "# DONE - Stopwords Removal: Words such as \"is\", \"and\", \"the\", etc., are often removed as they usually do not carry much useful information. Libraries like NLTK and SpaCy have built-in lists of stopwords that can be used.\n",
    "\n",
    "# DONE - Removing Numbers: Depending on the context, you might want to remove numbers. You can do this using regular expressions.\n",
    "\n",
    "# DONE - Stemming or Lemmatization: This process involves reducing a word to its root form. For example, \"running\" is reduced to \"run\". Stemming can be a crude process, but it's faster. Lemmatization is more accurate but computationally more intensive.\n",
    "\n",
    "# Handling Negations: Certain negation phrases like \"not good\", \"isn't\", \"wasn't\" etc. should be handled carefully. You may want to treat them as one term (\"not_good\", \"is_not\", \"was_not\") so that the sentiment isn't lost.\n",
    "\n",
    "# NOT DONE YET - Spell Checking: This is particularly important for tweets as they often contain misspelled words. You can use a library like pyspellchecker for this.\n",
    "\n",
    "# DONE - Removing Extra Whitespaces: Finally, make sure that there are no additional whitespaces in your text.\n",
    "\n",
    "# Keep in mind that not all these steps will be necessary for every NLP task, and some may even be counterproductive. For example, in sentiment analysis, removing emojis could potentially remove useful sentiment information. Similarly, if you're doing an authorship attribution task, you might want to keep features like capitalization, as they can be indicative of individual writing styles. Therefore, the steps should be tailored to the specifics of your NLP task.\n"
   ]
  },
  {
   "cell_type": "markdown",
   "metadata": {},
   "source": []
  },
  {
   "cell_type": "code",
   "execution_count": 375,
   "metadata": {},
   "outputs": [],
   "source": [
    "# Create a function that compiles all the steps taken above\n",
    "#def preprocess(text):\n",
    "#    '''\n",
    "#    Processes text data by basic cleaning, tokenization, lemmatization, and stopwords removal.\n",
    "#    '''\n",
    "#    text = text.apply(lambda x: x.lower())\n",
    "#    text = text.apply(lambda x: re.sub(r'([^A-Za-z0-9|\\s|[:punct:]]*)', '', x))\n",
    "#    text = text.apply(lambda x: x.replace('[^a-zA-Z#]', ' ').replace('quot', '').replace(':', '').replace('sxsw', ''))\n",
    "#    text = text.apply(lambda x: ' '.join([i for i in x.split() if len(i)>3]))\n",
    "#    text = text.apply(lambda x: x.split())\n",
    "#    text = text.apply(lambda x: [lemmatizer.lemmatize(word) for word in x])\n",
    "#    text = text.apply(lambda x: [word for word in x if word not in stopwords])\n",
    "#    text = text.apply(lambda x: ' '.join(x))\n",
    "#    return text"
   ]
  },
  {
   "cell_type": "code",
   "execution_count": 376,
   "metadata": {},
   "outputs": [],
   "source": [
    "########## do we want this line of code: text.replace('[^a-zA-Z#]', ' ').replace('quot', '').replace(':', '').replace('sxsw', '')\n",
    "########## text = \"I am an AI developed by OpenAI\"\n",
    "########## becomes: developed OpenAI\n",
    "\n",
    "def clean_tweet(text):\n",
    "    # Remove hashtags (words starting with '#')\n",
    "    text = re.sub(r'#\\w+', '', text)\n",
    "    \n",
    "    # Handle RT tags\n",
    "    text = re.sub(r'[Rr][Tt]', '', text)\n",
    "    \n",
    "    # Remove mentions (words starting with '@')\n",
    "    text = re.sub(r'@\\w+', '', text)\n",
    "\n",
    "    # Remove URLs\n",
    "    text = re.sub(r'http\\S+|www\\S+|https\\S+', '', text)\n",
    "\n",
    "    # Remove non-ASCII characters\n",
    "    text = unicodedata.normalize('NFKD', text).encode('ascii', 'ignore').decode('utf-8')\n",
    "        \n",
    "    # Remove special characters and numbers not adjacent to text\n",
    "    text = re.sub(r'\\b\\d+\\b', '', text)\n",
    "\n",
    "    text = re.sub(r'[^\\w\\s]', '', text)  # Remove special characters\n",
    "    text = re.sub(r'\\s+', ' ', text)     # Remove extra spaces\n",
    "    \n",
    "    # Remove stopwords\n",
    "    stop_words = set(stopwords.words('english'))\n",
    "    cleaned_text = [word for word in text.split() if word not in stop_words]\n",
    "\n",
    "    # Unique words to remove, add more as needed\n",
    "    words_to_remove = ['Austin', 'Link', 'Sxsw', 'sxsw']\n",
    "\n",
    "    for word in words_to_remove:\n",
    "        cleaned_text = [w for w in cleaned_text if not re.match(r'\\b{}\\b'.format(word), w, flags=re.IGNORECASE)]\n",
    "\n",
    "    return ' '.join(cleaned_text)\n"
   ]
  },
  {
   "cell_type": "code",
   "execution_count": 378,
   "metadata": {},
   "outputs": [
    {
     "ename": "TypeError",
     "evalue": "expected string or bytes-like object",
     "output_type": "error",
     "traceback": [
      "\u001b[1;31m---------------------------------------------------------------------------\u001b[0m",
      "\u001b[1;31mTypeError\u001b[0m                                 Traceback (most recent call last)",
      "\u001b[1;32m<ipython-input-378-57996181ac56>\u001b[0m in \u001b[0;36m<module>\u001b[1;34m\u001b[0m\n\u001b[1;32m----> 1\u001b[1;33m \u001b[0mdata_apple\u001b[0m\u001b[1;33m[\u001b[0m\u001b[1;34m'cleaned_tweet'\u001b[0m\u001b[1;33m]\u001b[0m \u001b[1;33m=\u001b[0m \u001b[0mdata_apple\u001b[0m\u001b[1;33m[\u001b[0m\u001b[1;34m'tweet'\u001b[0m\u001b[1;33m]\u001b[0m\u001b[1;33m.\u001b[0m\u001b[0mapply\u001b[0m\u001b[1;33m(\u001b[0m\u001b[0mclean_tweet\u001b[0m\u001b[1;33m)\u001b[0m\u001b[1;33m\u001b[0m\u001b[1;33m\u001b[0m\u001b[0m\n\u001b[0m\u001b[0;32m      2\u001b[0m \u001b[0mdata_apple\u001b[0m\u001b[1;33m[\u001b[0m\u001b[1;34m'cleaned_tweet'\u001b[0m\u001b[1;33m]\u001b[0m\u001b[1;33m.\u001b[0m\u001b[0mhead\u001b[0m\u001b[1;33m(\u001b[0m\u001b[1;36m15\u001b[0m\u001b[1;33m)\u001b[0m\u001b[1;33m\u001b[0m\u001b[1;33m\u001b[0m\u001b[0m\n",
      "\u001b[1;32mc:\\Users\\sean8\\Anaconda3 Software\\envs\\learn-env\\lib\\site-packages\\pandas\\core\\series.py\u001b[0m in \u001b[0;36mapply\u001b[1;34m(self, func, convert_dtype, args, **kwds)\u001b[0m\n\u001b[0;32m   4198\u001b[0m             \u001b[1;32melse\u001b[0m\u001b[1;33m:\u001b[0m\u001b[1;33m\u001b[0m\u001b[1;33m\u001b[0m\u001b[0m\n\u001b[0;32m   4199\u001b[0m                 \u001b[0mvalues\u001b[0m \u001b[1;33m=\u001b[0m \u001b[0mself\u001b[0m\u001b[1;33m.\u001b[0m\u001b[0mastype\u001b[0m\u001b[1;33m(\u001b[0m\u001b[0mobject\u001b[0m\u001b[1;33m)\u001b[0m\u001b[1;33m.\u001b[0m\u001b[0m_values\u001b[0m\u001b[1;33m\u001b[0m\u001b[1;33m\u001b[0m\u001b[0m\n\u001b[1;32m-> 4200\u001b[1;33m                 \u001b[0mmapped\u001b[0m \u001b[1;33m=\u001b[0m \u001b[0mlib\u001b[0m\u001b[1;33m.\u001b[0m\u001b[0mmap_infer\u001b[0m\u001b[1;33m(\u001b[0m\u001b[0mvalues\u001b[0m\u001b[1;33m,\u001b[0m \u001b[0mf\u001b[0m\u001b[1;33m,\u001b[0m \u001b[0mconvert\u001b[0m\u001b[1;33m=\u001b[0m\u001b[0mconvert_dtype\u001b[0m\u001b[1;33m)\u001b[0m\u001b[1;33m\u001b[0m\u001b[1;33m\u001b[0m\u001b[0m\n\u001b[0m\u001b[0;32m   4201\u001b[0m \u001b[1;33m\u001b[0m\u001b[0m\n\u001b[0;32m   4202\u001b[0m         \u001b[1;32mif\u001b[0m \u001b[0mlen\u001b[0m\u001b[1;33m(\u001b[0m\u001b[0mmapped\u001b[0m\u001b[1;33m)\u001b[0m \u001b[1;32mand\u001b[0m \u001b[0misinstance\u001b[0m\u001b[1;33m(\u001b[0m\u001b[0mmapped\u001b[0m\u001b[1;33m[\u001b[0m\u001b[1;36m0\u001b[0m\u001b[1;33m]\u001b[0m\u001b[1;33m,\u001b[0m \u001b[0mSeries\u001b[0m\u001b[1;33m)\u001b[0m\u001b[1;33m:\u001b[0m\u001b[1;33m\u001b[0m\u001b[1;33m\u001b[0m\u001b[0m\n",
      "\u001b[1;32mpandas\\_libs\\lib.pyx\u001b[0m in \u001b[0;36mpandas._libs.lib.map_infer\u001b[1;34m()\u001b[0m\n",
      "\u001b[1;32m<ipython-input-376-ad9faaadf370>\u001b[0m in \u001b[0;36mclean_tweet\u001b[1;34m(text)\u001b[0m\n\u001b[0;32m      5\u001b[0m \u001b[1;32mdef\u001b[0m \u001b[0mclean_tweet\u001b[0m\u001b[1;33m(\u001b[0m\u001b[0mtext\u001b[0m\u001b[1;33m)\u001b[0m\u001b[1;33m:\u001b[0m\u001b[1;33m\u001b[0m\u001b[1;33m\u001b[0m\u001b[0m\n\u001b[0;32m      6\u001b[0m     \u001b[1;31m# Remove hashtags (words starting with '#')\u001b[0m\u001b[1;33m\u001b[0m\u001b[1;33m\u001b[0m\u001b[1;33m\u001b[0m\u001b[0m\n\u001b[1;32m----> 7\u001b[1;33m     \u001b[0mtext\u001b[0m \u001b[1;33m=\u001b[0m \u001b[0mre\u001b[0m\u001b[1;33m.\u001b[0m\u001b[0msub\u001b[0m\u001b[1;33m(\u001b[0m\u001b[1;34mr'#\\w+'\u001b[0m\u001b[1;33m,\u001b[0m \u001b[1;34m''\u001b[0m\u001b[1;33m,\u001b[0m \u001b[0mtext\u001b[0m\u001b[1;33m)\u001b[0m\u001b[1;33m\u001b[0m\u001b[1;33m\u001b[0m\u001b[0m\n\u001b[0m\u001b[0;32m      8\u001b[0m \u001b[1;33m\u001b[0m\u001b[0m\n\u001b[0;32m      9\u001b[0m     \u001b[1;31m# Handle RT tags\u001b[0m\u001b[1;33m\u001b[0m\u001b[1;33m\u001b[0m\u001b[1;33m\u001b[0m\u001b[0m\n",
      "\u001b[1;32mc:\\Users\\sean8\\Anaconda3 Software\\envs\\learn-env\\lib\\re.py\u001b[0m in \u001b[0;36msub\u001b[1;34m(pattern, repl, string, count, flags)\u001b[0m\n\u001b[0;32m    208\u001b[0m     \u001b[0ma\u001b[0m \u001b[0mcallable\u001b[0m\u001b[1;33m,\u001b[0m \u001b[0mit\u001b[0m\u001b[0;31m'\u001b[0m\u001b[0ms\u001b[0m \u001b[0mpassed\u001b[0m \u001b[0mthe\u001b[0m \u001b[0mMatch\u001b[0m \u001b[0mobject\u001b[0m \u001b[1;32mand\u001b[0m \u001b[0mmust\u001b[0m \u001b[1;32mreturn\u001b[0m\u001b[1;33m\u001b[0m\u001b[1;33m\u001b[0m\u001b[0m\n\u001b[0;32m    209\u001b[0m     a replacement string to be used.\"\"\"\n\u001b[1;32m--> 210\u001b[1;33m     \u001b[1;32mreturn\u001b[0m \u001b[0m_compile\u001b[0m\u001b[1;33m(\u001b[0m\u001b[0mpattern\u001b[0m\u001b[1;33m,\u001b[0m \u001b[0mflags\u001b[0m\u001b[1;33m)\u001b[0m\u001b[1;33m.\u001b[0m\u001b[0msub\u001b[0m\u001b[1;33m(\u001b[0m\u001b[0mrepl\u001b[0m\u001b[1;33m,\u001b[0m \u001b[0mstring\u001b[0m\u001b[1;33m,\u001b[0m \u001b[0mcount\u001b[0m\u001b[1;33m)\u001b[0m\u001b[1;33m\u001b[0m\u001b[1;33m\u001b[0m\u001b[0m\n\u001b[0m\u001b[0;32m    211\u001b[0m \u001b[1;33m\u001b[0m\u001b[0m\n\u001b[0;32m    212\u001b[0m \u001b[1;32mdef\u001b[0m \u001b[0msubn\u001b[0m\u001b[1;33m(\u001b[0m\u001b[0mpattern\u001b[0m\u001b[1;33m,\u001b[0m \u001b[0mrepl\u001b[0m\u001b[1;33m,\u001b[0m \u001b[0mstring\u001b[0m\u001b[1;33m,\u001b[0m \u001b[0mcount\u001b[0m\u001b[1;33m=\u001b[0m\u001b[1;36m0\u001b[0m\u001b[1;33m,\u001b[0m \u001b[0mflags\u001b[0m\u001b[1;33m=\u001b[0m\u001b[1;36m0\u001b[0m\u001b[1;33m)\u001b[0m\u001b[1;33m:\u001b[0m\u001b[1;33m\u001b[0m\u001b[1;33m\u001b[0m\u001b[0m\n",
      "\u001b[1;31mTypeError\u001b[0m: expected string or bytes-like object"
     ]
    }
   ],
   "source": [
    "data_apple['cleaned_tweet'] = data_apple['tweet'].apply(clean_tweet)\n",
    "data_apple['cleaned_tweet'].head(15)"
   ]
  },
  {
   "cell_type": "code",
   "execution_count": 366,
   "metadata": {},
   "outputs": [
    {
     "data": {
      "text/plain": [
       "pandas.core.series.Series"
      ]
     },
     "execution_count": 366,
     "metadata": {},
     "output_type": "execute_result"
    }
   ],
   "source": [
    "type(data_apple['cleaned_tweet'])"
   ]
  },
  {
   "cell_type": "code",
   "execution_count": null,
   "metadata": {},
   "outputs": [],
   "source": []
  },
  {
   "cell_type": "code",
   "execution_count": 364,
   "metadata": {},
   "outputs": [],
   "source": [
    "def tokenized_tweet(text):\n",
    "    # Tokenize the cleaned tweet\n",
    "    tknzr = TweetTokenizer()\n",
    "    tokenized_tweet = tknzr.tokenize(text)\n",
    "\n",
    "    # Apply lemmatization\n",
    "    lemmatizer = WordNetLemmatizer()\n",
    "    tokenized_tweet = [lemmatizer.lemmatize(word) for word in tokenized_tweet]\n",
    "\n",
    "    ##### takes an eternity to run\n",
    "    # Apply optimized spell correction\n",
    "    #tokenized_tweet = [optimized_spell_correction(word) for word in tokenized_tweet]\n",
    "\n",
    "    return tokenized_tweet"
   ]
  },
  {
   "cell_type": "code",
   "execution_count": 365,
   "metadata": {},
   "outputs": [
    {
     "ename": "TypeError",
     "evalue": "expected string or buffer",
     "output_type": "error",
     "traceback": [
      "\u001b[1;31m---------------------------------------------------------------------------\u001b[0m",
      "\u001b[1;31mTypeError\u001b[0m                                 Traceback (most recent call last)",
      "\u001b[1;32m<ipython-input-365-71a10389b4c7>\u001b[0m in \u001b[0;36m<module>\u001b[1;34m\u001b[0m\n\u001b[1;32m----> 1\u001b[1;33m \u001b[0mdata_apple\u001b[0m\u001b[1;33m[\u001b[0m\u001b[1;34m'tokenized_tweet'\u001b[0m\u001b[1;33m]\u001b[0m \u001b[1;33m=\u001b[0m \u001b[0mdata_apple\u001b[0m\u001b[1;33m[\u001b[0m\u001b[1;34m'cleaned_tweet'\u001b[0m\u001b[1;33m]\u001b[0m\u001b[1;33m.\u001b[0m\u001b[0mapply\u001b[0m\u001b[1;33m(\u001b[0m\u001b[1;32mlambda\u001b[0m \u001b[0mx\u001b[0m\u001b[1;33m:\u001b[0m \u001b[0mtokenized_tweet\u001b[0m\u001b[1;33m(\u001b[0m\u001b[0mx\u001b[0m\u001b[1;33m)\u001b[0m\u001b[1;33m)\u001b[0m\u001b[1;33m\u001b[0m\u001b[1;33m\u001b[0m\u001b[0m\n\u001b[0m\u001b[0;32m      2\u001b[0m \u001b[0mdata_apple\u001b[0m\u001b[1;33m[\u001b[0m\u001b[1;34m'tokenized_tweet'\u001b[0m\u001b[1;33m]\u001b[0m\u001b[1;33m.\u001b[0m\u001b[0mhead\u001b[0m\u001b[1;33m(\u001b[0m\u001b[1;36m15\u001b[0m\u001b[1;33m)\u001b[0m\u001b[1;33m\u001b[0m\u001b[1;33m\u001b[0m\u001b[0m\n",
      "\u001b[1;32mc:\\Users\\sean8\\Anaconda3 Software\\envs\\learn-env\\lib\\site-packages\\pandas\\core\\series.py\u001b[0m in \u001b[0;36mapply\u001b[1;34m(self, func, convert_dtype, args, **kwds)\u001b[0m\n\u001b[0;32m   4198\u001b[0m             \u001b[1;32melse\u001b[0m\u001b[1;33m:\u001b[0m\u001b[1;33m\u001b[0m\u001b[1;33m\u001b[0m\u001b[0m\n\u001b[0;32m   4199\u001b[0m                 \u001b[0mvalues\u001b[0m \u001b[1;33m=\u001b[0m \u001b[0mself\u001b[0m\u001b[1;33m.\u001b[0m\u001b[0mastype\u001b[0m\u001b[1;33m(\u001b[0m\u001b[0mobject\u001b[0m\u001b[1;33m)\u001b[0m\u001b[1;33m.\u001b[0m\u001b[0m_values\u001b[0m\u001b[1;33m\u001b[0m\u001b[1;33m\u001b[0m\u001b[0m\n\u001b[1;32m-> 4200\u001b[1;33m                 \u001b[0mmapped\u001b[0m \u001b[1;33m=\u001b[0m \u001b[0mlib\u001b[0m\u001b[1;33m.\u001b[0m\u001b[0mmap_infer\u001b[0m\u001b[1;33m(\u001b[0m\u001b[0mvalues\u001b[0m\u001b[1;33m,\u001b[0m \u001b[0mf\u001b[0m\u001b[1;33m,\u001b[0m \u001b[0mconvert\u001b[0m\u001b[1;33m=\u001b[0m\u001b[0mconvert_dtype\u001b[0m\u001b[1;33m)\u001b[0m\u001b[1;33m\u001b[0m\u001b[1;33m\u001b[0m\u001b[0m\n\u001b[0m\u001b[0;32m   4201\u001b[0m \u001b[1;33m\u001b[0m\u001b[0m\n\u001b[0;32m   4202\u001b[0m         \u001b[1;32mif\u001b[0m \u001b[0mlen\u001b[0m\u001b[1;33m(\u001b[0m\u001b[0mmapped\u001b[0m\u001b[1;33m)\u001b[0m \u001b[1;32mand\u001b[0m \u001b[0misinstance\u001b[0m\u001b[1;33m(\u001b[0m\u001b[0mmapped\u001b[0m\u001b[1;33m[\u001b[0m\u001b[1;36m0\u001b[0m\u001b[1;33m]\u001b[0m\u001b[1;33m,\u001b[0m \u001b[0mSeries\u001b[0m\u001b[1;33m)\u001b[0m\u001b[1;33m:\u001b[0m\u001b[1;33m\u001b[0m\u001b[1;33m\u001b[0m\u001b[0m\n",
      "\u001b[1;32mpandas\\_libs\\lib.pyx\u001b[0m in \u001b[0;36mpandas._libs.lib.map_infer\u001b[1;34m()\u001b[0m\n",
      "\u001b[1;32m<ipython-input-365-71a10389b4c7>\u001b[0m in \u001b[0;36m<lambda>\u001b[1;34m(x)\u001b[0m\n\u001b[1;32m----> 1\u001b[1;33m \u001b[0mdata_apple\u001b[0m\u001b[1;33m[\u001b[0m\u001b[1;34m'tokenized_tweet'\u001b[0m\u001b[1;33m]\u001b[0m \u001b[1;33m=\u001b[0m \u001b[0mdata_apple\u001b[0m\u001b[1;33m[\u001b[0m\u001b[1;34m'cleaned_tweet'\u001b[0m\u001b[1;33m]\u001b[0m\u001b[1;33m.\u001b[0m\u001b[0mapply\u001b[0m\u001b[1;33m(\u001b[0m\u001b[1;32mlambda\u001b[0m \u001b[0mx\u001b[0m\u001b[1;33m:\u001b[0m \u001b[0mtokenized_tweet\u001b[0m\u001b[1;33m(\u001b[0m\u001b[0mx\u001b[0m\u001b[1;33m)\u001b[0m\u001b[1;33m)\u001b[0m\u001b[1;33m\u001b[0m\u001b[1;33m\u001b[0m\u001b[0m\n\u001b[0m\u001b[0;32m      2\u001b[0m \u001b[0mdata_apple\u001b[0m\u001b[1;33m[\u001b[0m\u001b[1;34m'tokenized_tweet'\u001b[0m\u001b[1;33m]\u001b[0m\u001b[1;33m.\u001b[0m\u001b[0mhead\u001b[0m\u001b[1;33m(\u001b[0m\u001b[1;36m15\u001b[0m\u001b[1;33m)\u001b[0m\u001b[1;33m\u001b[0m\u001b[1;33m\u001b[0m\u001b[0m\n",
      "\u001b[1;32m<ipython-input-364-5ee6b14cf047>\u001b[0m in \u001b[0;36mtokenized_tweet\u001b[1;34m(text)\u001b[0m\n\u001b[0;32m      2\u001b[0m     \u001b[1;31m# Tokenize the cleaned tweet\u001b[0m\u001b[1;33m\u001b[0m\u001b[1;33m\u001b[0m\u001b[1;33m\u001b[0m\u001b[0m\n\u001b[0;32m      3\u001b[0m     \u001b[0mtknzr\u001b[0m \u001b[1;33m=\u001b[0m \u001b[0mTweetTokenizer\u001b[0m\u001b[1;33m(\u001b[0m\u001b[1;33m)\u001b[0m\u001b[1;33m\u001b[0m\u001b[1;33m\u001b[0m\u001b[0m\n\u001b[1;32m----> 4\u001b[1;33m     \u001b[0mtokenized_tweet\u001b[0m \u001b[1;33m=\u001b[0m \u001b[0mtknzr\u001b[0m\u001b[1;33m.\u001b[0m\u001b[0mtokenize\u001b[0m\u001b[1;33m(\u001b[0m\u001b[0mtext\u001b[0m\u001b[1;33m)\u001b[0m\u001b[1;33m\u001b[0m\u001b[1;33m\u001b[0m\u001b[0m\n\u001b[0m\u001b[0;32m      5\u001b[0m \u001b[1;33m\u001b[0m\u001b[0m\n\u001b[0;32m      6\u001b[0m     \u001b[1;31m# Apply lemmatization\u001b[0m\u001b[1;33m\u001b[0m\u001b[1;33m\u001b[0m\u001b[1;33m\u001b[0m\u001b[0m\n",
      "\u001b[1;32mc:\\Users\\sean8\\Anaconda3 Software\\envs\\learn-env\\lib\\site-packages\\nltk\\tokenize\\casual.py\u001b[0m in \u001b[0;36mtokenize\u001b[1;34m(self, text)\u001b[0m\n\u001b[0;32m    284\u001b[0m         \"\"\"\n\u001b[0;32m    285\u001b[0m         \u001b[1;31m# Fix HTML character entities:\u001b[0m\u001b[1;33m\u001b[0m\u001b[1;33m\u001b[0m\u001b[1;33m\u001b[0m\u001b[0m\n\u001b[1;32m--> 286\u001b[1;33m         \u001b[0mtext\u001b[0m \u001b[1;33m=\u001b[0m \u001b[0m_replace_html_entities\u001b[0m\u001b[1;33m(\u001b[0m\u001b[0mtext\u001b[0m\u001b[1;33m)\u001b[0m\u001b[1;33m\u001b[0m\u001b[1;33m\u001b[0m\u001b[0m\n\u001b[0m\u001b[0;32m    287\u001b[0m         \u001b[1;31m# Remove username handles\u001b[0m\u001b[1;33m\u001b[0m\u001b[1;33m\u001b[0m\u001b[1;33m\u001b[0m\u001b[0m\n\u001b[0;32m    288\u001b[0m         \u001b[1;32mif\u001b[0m \u001b[0mself\u001b[0m\u001b[1;33m.\u001b[0m\u001b[0mstrip_handles\u001b[0m\u001b[1;33m:\u001b[0m\u001b[1;33m\u001b[0m\u001b[1;33m\u001b[0m\u001b[0m\n",
      "\u001b[1;32mc:\\Users\\sean8\\Anaconda3 Software\\envs\\learn-env\\lib\\site-packages\\nltk\\tokenize\\casual.py\u001b[0m in \u001b[0;36m_replace_html_entities\u001b[1;34m(text, keep, remove_illegal, encoding)\u001b[0m\n\u001b[0;32m    247\u001b[0m         \u001b[1;32mreturn\u001b[0m \u001b[1;34m\"\"\u001b[0m \u001b[1;32mif\u001b[0m \u001b[0mremove_illegal\u001b[0m \u001b[1;32melse\u001b[0m \u001b[0mmatch\u001b[0m\u001b[1;33m.\u001b[0m\u001b[0mgroup\u001b[0m\u001b[1;33m(\u001b[0m\u001b[1;36m0\u001b[0m\u001b[1;33m)\u001b[0m\u001b[1;33m\u001b[0m\u001b[1;33m\u001b[0m\u001b[0m\n\u001b[0;32m    248\u001b[0m \u001b[1;33m\u001b[0m\u001b[0m\n\u001b[1;32m--> 249\u001b[1;33m     \u001b[1;32mreturn\u001b[0m \u001b[0mENT_RE\u001b[0m\u001b[1;33m.\u001b[0m\u001b[0msub\u001b[0m\u001b[1;33m(\u001b[0m\u001b[0m_convert_entity\u001b[0m\u001b[1;33m,\u001b[0m \u001b[0m_str_to_unicode\u001b[0m\u001b[1;33m(\u001b[0m\u001b[0mtext\u001b[0m\u001b[1;33m,\u001b[0m \u001b[0mencoding\u001b[0m\u001b[1;33m)\u001b[0m\u001b[1;33m)\u001b[0m\u001b[1;33m\u001b[0m\u001b[1;33m\u001b[0m\u001b[0m\n\u001b[0m\u001b[0;32m    250\u001b[0m \u001b[1;33m\u001b[0m\u001b[0m\n\u001b[0;32m    251\u001b[0m \u001b[1;33m\u001b[0m\u001b[0m\n",
      "\u001b[1;31mTypeError\u001b[0m: expected string or buffer"
     ]
    }
   ],
   "source": [
    "data_apple['tokenized_tweet'] = data_apple['cleaned_tweet'].apply(lambda x: tokenized_tweet(x))\n",
    "data_apple['tokenized_tweet'].head(15)"
   ]
  },
  {
   "cell_type": "code",
   "execution_count": null,
   "metadata": {},
   "outputs": [
    {
     "name": "stdout",
     "output_type": "stream",
     "text": [
      "<class 'pandas.core.frame.DataFrame'>\n",
      "Int64Index: 6209 entries, 0 to 9091\n",
      "Data columns (total 8 columns):\n",
      " #   Column         Non-Null Count  Dtype  \n",
      "---  ------         --------------  -----  \n",
      " 0   tweet          6209 non-null   object \n",
      " 1   brand_og       6209 non-null   object \n",
      " 2   target         6209 non-null   float64\n",
      " 3   polarity       6209 non-null   float64\n",
      " 4   subjectivity   6209 non-null   float64\n",
      " 5   analysis       6209 non-null   int64  \n",
      " 6   new_brand      6209 non-null   object \n",
      " 7   cleaned_tweet  6209 non-null   object \n",
      "dtypes: float64(3), int64(1), object(4)\n",
      "memory usage: 436.6+ KB\n"
     ]
    }
   ],
   "source": [
    "data_apple.info()"
   ]
  },
  {
   "cell_type": "code",
   "execution_count": null,
   "metadata": {},
   "outputs": [
    {
     "name": "stderr",
     "output_type": "stream",
     "text": [
      "<ipython-input-268-2075732c0ba1>:2: SettingWithCopyWarning: \n",
      "A value is trying to be set on a copy of a slice from a DataFrame.\n",
      "Try using .loc[row_indexer,col_indexer] = value instead\n",
      "\n",
      "See the caveats in the documentation: https://pandas.pydata.org/pandas-docs/stable/user_guide/indexing.html#returning-a-view-versus-a-copy\n",
      "  data_apple['cleaned_tweet_str'] = data_apple['cleaned_tweet'].apply(lambda tokens: ' '.join(tokens))\n"
     ]
    },
    {
     "data": {
      "image/png": "[encoded data removed]",
      "text/plain": [
       "<Figure size 1152x432 with 1 Axes>"
      ]
     },
     "metadata": {
      "needs_background": "light"
     },
     "output_type": "display_data"
    }
   ],
   "source": [
    "# Convert tokenized tweets back to strings\n",
    "data_apple['cleaned_tweet_str'] = data_apple['cleaned_tweet'].apply(lambda tokens: ' '.join(tokens))\n",
    "\n",
    "# Initialize CountVectorizer with stop_words\n",
    "cv = CountVectorizer(stop_words='english')\n",
    "\n",
    "# Fit and transform the training data\n",
    "X_counts = cv.fit_transform(data_apple['cleaned_tweet_str'])\n",
    "\n",
    "# Rest of the code remains the same\n",
    "# Get the word frequencies\n",
    "sum_words = X_counts.sum(axis=0)\n",
    "# Create a list of (word, frequency) tuples\n",
    "frequencies = [(word, sum_words[0, i]) for word, i in cv.vocabulary_.items()]\n",
    "# Sort the frequencies in descending order\n",
    "frequencies = sorted(frequencies, key=lambda x: x[1], reverse=True)\n",
    "# Convert the list to a DataFrame\n",
    "df_frequencies = pd.DataFrame(frequencies, columns=['word', 'frequency'])\n",
    "\n",
    "# Plot the top 20 most frequent words\n",
    "plt.style.use('bmh')\n",
    "fig, ax = plt.subplots(figsize=(16, 6))\n",
    "sns.barplot(x='word', y='frequency', data=df_frequencies.head(20), palette='Greys_r')\n",
    "ax.set_title('Top 20 Most Frequent Words', fontsize=16)\n",
    "ax.set(xlabel=None, ylabel=None)\n",
    "plt.xticks(rotation=45, ha='right')\n",
    "plt.tight_layout()\n",
    "plt.show()"
   ]
  },
  {
   "cell_type": "code",
   "execution_count": null,
   "metadata": {},
   "outputs": [
    {
     "name": "stdout",
     "output_type": "stream",
     "text": [
      "<class 'pandas.core.frame.DataFrame'>\n",
      "Int64Index: 6209 entries, 0 to 9091\n",
      "Data columns (total 9 columns):\n",
      " #   Column             Non-Null Count  Dtype  \n",
      "---  ------             --------------  -----  \n",
      " 0   tweet              6209 non-null   object \n",
      " 1   brand_og           6209 non-null   object \n",
      " 2   target             6209 non-null   float64\n",
      " 3   polarity           6209 non-null   float64\n",
      " 4   subjectivity       6209 non-null   float64\n",
      " 5   analysis           6209 non-null   int64  \n",
      " 6   new_brand          6209 non-null   object \n",
      " 7   cleaned_tweet      6209 non-null   object \n",
      " 8   cleaned_tweet_str  6209 non-null   object \n",
      "dtypes: float64(3), int64(1), object(5)\n",
      "memory usage: 485.1+ KB\n"
     ]
    }
   ],
   "source": [
    "data_apple.info()\n",
    "#### How is it all back...I'm too tired"
   ]
  },
  {
   "cell_type": "code",
   "execution_count": null,
   "metadata": {},
   "outputs": [],
   "source": [
    "########## FIGURE OUT WHERE TO DROP THE COLUMNS\n",
    "##########  START HERE AND ADD WORD CLOUDS"
   ]
  },
  {
   "cell_type": "code",
   "execution_count": null,
   "metadata": {},
   "outputs": [],
   "source": [
    "X = data_apple['cleaned_tweet']\n",
    "y = data_apple['analysis']\n",
    "\n",
    "X_train, X_test, y_train, y_test = train_test_split(X, y, random_state=24)"
   ]
  },
  {
   "cell_type": "code",
   "execution_count": null,
   "metadata": {},
   "outputs": [],
   "source": [
    "##### NEXT GO HERE AND ADD TF_IDF WITH GRIDSEARCH"
   ]
  },
  {
   "cell_type": "code",
   "execution_count": null,
   "metadata": {},
   "outputs": [
    {
     "ename": "NameError",
     "evalue": "name 'X_train_pro' is not defined",
     "output_type": "error",
     "traceback": [
      "\u001b[1;31m---------------------------------------------------------------------------\u001b[0m",
      "\u001b[1;31mNameError\u001b[0m                                 Traceback (most recent call last)",
      "\u001b[1;32m<ipython-input-274-9429a81ac71a>\u001b[0m in \u001b[0;36m<module>\u001b[1;34m\u001b[0m\n\u001b[0;32m      6\u001b[0m \u001b[1;33m\u001b[0m\u001b[0m\n\u001b[0;32m      7\u001b[0m \u001b[1;31m# Convert tokenized tweets back to strings\u001b[0m\u001b[1;33m\u001b[0m\u001b[1;33m\u001b[0m\u001b[1;33m\u001b[0m\u001b[0m\n\u001b[1;32m----> 8\u001b[1;33m \u001b[0mX_train_pro_str\u001b[0m \u001b[1;33m=\u001b[0m \u001b[0mX_train_pro\u001b[0m\u001b[1;33m.\u001b[0m\u001b[0mapply\u001b[0m\u001b[1;33m(\u001b[0m\u001b[1;32mlambda\u001b[0m \u001b[0mtokens\u001b[0m\u001b[1;33m:\u001b[0m \u001b[1;34m' '\u001b[0m\u001b[1;33m.\u001b[0m\u001b[0mjoin\u001b[0m\u001b[1;33m(\u001b[0m\u001b[0mtokens\u001b[0m\u001b[1;33m)\u001b[0m\u001b[1;33m)\u001b[0m\u001b[1;33m\u001b[0m\u001b[1;33m\u001b[0m\u001b[0m\n\u001b[0m\u001b[0;32m      9\u001b[0m \u001b[0mX_test_pro_str\u001b[0m \u001b[1;33m=\u001b[0m \u001b[0mX_test_pro\u001b[0m\u001b[1;33m.\u001b[0m\u001b[0mapply\u001b[0m\u001b[1;33m(\u001b[0m\u001b[1;32mlambda\u001b[0m \u001b[0mtokens\u001b[0m\u001b[1;33m:\u001b[0m \u001b[1;34m' '\u001b[0m\u001b[1;33m.\u001b[0m\u001b[0mjoin\u001b[0m\u001b[1;33m(\u001b[0m\u001b[0mtokens\u001b[0m\u001b[1;33m)\u001b[0m\u001b[1;33m)\u001b[0m\u001b[1;33m\u001b[0m\u001b[1;33m\u001b[0m\u001b[0m\n\u001b[0;32m     10\u001b[0m \u001b[1;33m\u001b[0m\u001b[0m\n",
      "\u001b[1;31mNameError\u001b[0m: name 'X_train_pro' is not defined"
     ]
    }
   ],
   "source": [
    "##### ngram_range do we want to capture only singles and pairs of words???\n",
    "##### the token_patern is only capturing words and not capturing 3g. do we want to add an expresion \n",
    "##### to capture words begining with a number?\n",
    "##### can we grid search CountVectorizer for ngram_range???\n",
    "\n",
    "\n",
    "# Convert tokenized tweets back to strings\n",
    "X_train_pro_str = X_train_pro.apply(lambda tokens: ' '.join(tokens))\n",
    "X_test_pro_str = X_test_pro.apply(lambda tokens: ' '.join(tokens))\n",
    "\n",
    "# Create CountVectorizer with the specified token pattern and stop words\n",
    "vec = CountVectorizer(token_pattern=r\"([a-zA-Z]+(?:'[a-z]+)?)\", stop_words=stop_words, ngram_range=[1, 2])\n",
    "\n",
    "# Fit and transform the training data\n",
    "X_train_vec = vec.fit_transform(X_train_pro_str)\n",
    "\n",
    "# Transform the test data (only transform, don't fit again)\n",
    "X_test_vec = vec.transform(X_test_pro_str)"
   ]
  },
  {
   "cell_type": "code",
   "execution_count": null,
   "metadata": {},
   "outputs": [
    {
     "data": {
      "text/html": [
       "<div>\n",
       "<style scoped>\n",
       "    .dataframe tbody tr th:only-of-type {\n",
       "        vertical-align: middle;\n",
       "    }\n",
       "\n",
       "    .dataframe tbody tr th {\n",
       "        vertical-align: top;\n",
       "    }\n",
       "\n",
       "    .dataframe thead th {\n",
       "        text-align: right;\n",
       "    }\n",
       "</style>\n",
       "<table border=\"1\" class=\"dataframe\">\n",
       "  <thead>\n",
       "    <tr style=\"text-align: right;\">\n",
       "      <th></th>\n",
       "      <th>aa</th>\n",
       "      <th>aaaa</th>\n",
       "      <th>aapl</th>\n",
       "      <th>aaron</th>\n",
       "      <th>abacus</th>\n",
       "      <th>abba</th>\n",
       "      <th>abc</th>\n",
       "      <th>aber</th>\n",
       "      <th>ability</th>\n",
       "      <th>able</th>\n",
       "      <th>...</th>\n",
       "      <th>zite</th>\n",
       "      <th>zlf</th>\n",
       "      <th>zms</th>\n",
       "      <th>zombie</th>\n",
       "      <th>zomg</th>\n",
       "      <th>zone</th>\n",
       "      <th>zoom</th>\n",
       "      <th>zuckerberg</th>\n",
       "      <th>zynga</th>\n",
       "      <th>zzzs</th>\n",
       "    </tr>\n",
       "  </thead>\n",
       "  <tbody>\n",
       "    <tr>\n",
       "      <th>0</th>\n",
       "      <td>0</td>\n",
       "      <td>0</td>\n",
       "      <td>0</td>\n",
       "      <td>0</td>\n",
       "      <td>0</td>\n",
       "      <td>0</td>\n",
       "      <td>0</td>\n",
       "      <td>0</td>\n",
       "      <td>0</td>\n",
       "      <td>0</td>\n",
       "      <td>...</td>\n",
       "      <td>0</td>\n",
       "      <td>0</td>\n",
       "      <td>0</td>\n",
       "      <td>0</td>\n",
       "      <td>0</td>\n",
       "      <td>0</td>\n",
       "      <td>0</td>\n",
       "      <td>0</td>\n",
       "      <td>0</td>\n",
       "      <td>0</td>\n",
       "    </tr>\n",
       "    <tr>\n",
       "      <th>1</th>\n",
       "      <td>0</td>\n",
       "      <td>0</td>\n",
       "      <td>0</td>\n",
       "      <td>0</td>\n",
       "      <td>0</td>\n",
       "      <td>0</td>\n",
       "      <td>0</td>\n",
       "      <td>0</td>\n",
       "      <td>0</td>\n",
       "      <td>0</td>\n",
       "      <td>...</td>\n",
       "      <td>0</td>\n",
       "      <td>0</td>\n",
       "      <td>0</td>\n",
       "      <td>0</td>\n",
       "      <td>0</td>\n",
       "      <td>0</td>\n",
       "      <td>0</td>\n",
       "      <td>0</td>\n",
       "      <td>0</td>\n",
       "      <td>0</td>\n",
       "    </tr>\n",
       "    <tr>\n",
       "      <th>2</th>\n",
       "      <td>0</td>\n",
       "      <td>0</td>\n",
       "      <td>0</td>\n",
       "      <td>0</td>\n",
       "      <td>0</td>\n",
       "      <td>0</td>\n",
       "      <td>0</td>\n",
       "      <td>0</td>\n",
       "      <td>0</td>\n",
       "      <td>0</td>\n",
       "      <td>...</td>\n",
       "      <td>0</td>\n",
       "      <td>0</td>\n",
       "      <td>0</td>\n",
       "      <td>0</td>\n",
       "      <td>0</td>\n",
       "      <td>0</td>\n",
       "      <td>0</td>\n",
       "      <td>0</td>\n",
       "      <td>0</td>\n",
       "      <td>0</td>\n",
       "    </tr>\n",
       "    <tr>\n",
       "      <th>3</th>\n",
       "      <td>0</td>\n",
       "      <td>0</td>\n",
       "      <td>0</td>\n",
       "      <td>0</td>\n",
       "      <td>0</td>\n",
       "      <td>0</td>\n",
       "      <td>0</td>\n",
       "      <td>0</td>\n",
       "      <td>0</td>\n",
       "      <td>0</td>\n",
       "      <td>...</td>\n",
       "      <td>0</td>\n",
       "      <td>0</td>\n",
       "      <td>0</td>\n",
       "      <td>0</td>\n",
       "      <td>0</td>\n",
       "      <td>0</td>\n",
       "      <td>0</td>\n",
       "      <td>0</td>\n",
       "      <td>0</td>\n",
       "      <td>0</td>\n",
       "    </tr>\n",
       "    <tr>\n",
       "      <th>4</th>\n",
       "      <td>0</td>\n",
       "      <td>0</td>\n",
       "      <td>0</td>\n",
       "      <td>0</td>\n",
       "      <td>0</td>\n",
       "      <td>0</td>\n",
       "      <td>0</td>\n",
       "      <td>0</td>\n",
       "      <td>0</td>\n",
       "      <td>0</td>\n",
       "      <td>...</td>\n",
       "      <td>0</td>\n",
       "      <td>0</td>\n",
       "      <td>0</td>\n",
       "      <td>0</td>\n",
       "      <td>0</td>\n",
       "      <td>0</td>\n",
       "      <td>0</td>\n",
       "      <td>0</td>\n",
       "      <td>0</td>\n",
       "      <td>0</td>\n",
       "    </tr>\n",
       "  </tbody>\n",
       "</table>\n",
       "<p>5 rows × 6223 columns</p>\n",
       "</div>"
      ],
      "text/plain": [
       "   aa  aaaa  aapl  aaron  abacus  abba  abc  aber  ability  able  ...  zite  \\\n",
       "0   0     0     0      0       0     0    0     0        0     0  ...     0   \n",
       "1   0     0     0      0       0     0    0     0        0     0  ...     0   \n",
       "2   0     0     0      0       0     0    0     0        0     0  ...     0   \n",
       "3   0     0     0      0       0     0    0     0        0     0  ...     0   \n",
       "4   0     0     0      0       0     0    0     0        0     0  ...     0   \n",
       "\n",
       "   zlf  zms  zombie  zomg  zone  zoom  zuckerberg  zynga  zzzs  \n",
       "0    0    0       0     0     0     0           0      0     0  \n",
       "1    0    0       0     0     0     0           0      0     0  \n",
       "2    0    0       0     0     0     0           0      0     0  \n",
       "3    0    0       0     0     0     0           0      0     0  \n",
       "4    0    0       0     0     0     0           0      0     0  \n",
       "\n",
       "[5 rows x 6223 columns]"
      ]
     },
     "execution_count": 280,
     "metadata": {},
     "output_type": "execute_result"
    }
   ],
   "source": [
    "new_df = pd.DataFrame(X_train_vec.toarray(), columns=vec.get_feature_names())\n",
    "new_df.head()"
   ]
  },
  {
   "cell_type": "code",
   "execution_count": null,
   "metadata": {},
   "outputs": [],
   "source": []
  }
 ],
 "metadata": {
  "kernelspec": {
   "display_name": "learn-env",
   "language": "python",
   "name": "python3"
  },
  "language_info": {
   "codemirror_mode": {
    "name": "ipython",
    "version": 3
   },
   "file_extension": ".py",
   "mimetype": "text/x-python",
   "name": "python",
   "nbconvert_exporter": "python",
   "pygments_lexer": "ipython3",
   "version": "3.8.5"
  },
  "orig_nbformat": 4
 },
 "nbformat": 4,
 "nbformat_minor": 2
}
