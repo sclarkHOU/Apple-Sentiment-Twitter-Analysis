{
 "cells": [
  {
   "cell_type": "code",
   "execution_count": 23,
   "metadata": {},
   "outputs": [],
   "source": [
    "# Import the necessary libraries\n",
    "import wordcloud\n",
    "import nltk\n",
    "import textblob\n",
    "import pandas as pd\n",
    "import seaborn as sns\n",
    "import matplotlib.pyplot as plt\n",
    "from sklearn.model_selection import train_test_split\n",
    "import matplotlib_inline\n",
    "import nltk\n",
    "from wordcloud import WordCloud\n",
    "from textblob import TextBlob\n",
    "import re\n",
    "from sklearn.feature_extraction.text import CountVectorizer, TfidfVectorizer\n",
    "from nltk.stem.wordnet import WordNetLemmatizer\n",
    "lemmatizer = nltk.stem.WordNetLemmatizer()\n",
    "from nltk.tokenize import TweetTokenizer\n",
    "from nltk.corpus import stopwords\n",
    "import unicodedata\n",
    "from spellchecker import SpellChecker\n",
    "import sklearn\n",
    "import imblearn\n",
    "\n",
    "from imblearn.combine import SMOTEENN\n",
    "from imblearn.under_sampling import RandomUnderSampler\n",
    "\n",
    "from imblearn.pipeline import Pipeline\n",
    "#import warnings\n",
    "#warnings.simplefilter(\"ignore\")\n"
   ]
  },
  {
   "cell_type": "code",
   "execution_count": 3,
   "metadata": {},
   "outputs": [
    {
     "name": "stdout",
     "output_type": "stream",
     "text": [
      "<class 'pandas.core.frame.DataFrame'>\n",
      "Int64Index: 8936 entries, 0 to 9092\n",
      "Data columns (total 3 columns):\n",
      " #   Column    Non-Null Count  Dtype  \n",
      "---  ------    --------------  -----  \n",
      " 0   tweet     8936 non-null   object \n",
      " 1   brand_og  8936 non-null   object \n",
      " 2   target    8936 non-null   float64\n",
      "dtypes: float64(1), object(2)\n",
      "memory usage: 279.2+ KB\n"
     ]
    }
   ],
   "source": [
    "# Read in the file with the correct encoding\n",
    "data = pd.read_csv('brandandproductemotions.csv', encoding='latin1')\n",
    "\n",
    "# Display the first few rows of the data and rename colummns\n",
    "data.columns = ['tweet', 'brand_og', 'target']\n",
    "\n",
    "############## updated this to new scale for Textblob analysis\n",
    "# rename target column values to simpler expressions\n",
    "emotions = {'Negative emotion': 'negative','Positive emotion':'positive','No emotion toward brand or product':'neutral', 'I cant tell':'unknown'}\n",
    "data['target'] = data['target'].map(emotions)\n",
    "emotions = {'neutral':0, 'positive':1, 'negative':-1}\n",
    "data['target'] = data['target'].map(emotions)\n",
    "\n",
    "# Replace NaN with \"unknown\" in the 'brand_og' column\n",
    "data['brand_og'].fillna('unknown', inplace=True)\n",
    "\n",
    "# make all cells lower\n",
    "data = data.applymap(lambda s: s.lower() if type(s) == str else s)\n",
    "\n",
    "# key words to search for to ID brand\n",
    "apple = ['iphone',\n",
    "         'ipad',\n",
    "         'itunes',\n",
    "         'apple']\n",
    "android = ['google',\n",
    "           'samsung',\n",
    "           'android']\n",
    "\n",
    "##############\n",
    "# Drop null in 'target' and 'tweet'\n",
    "data = data.dropna(subset=['target', 'tweet'])\n",
    "\n",
    "\n",
    "\n",
    "data.info()"
   ]
  },
  {
   "cell_type": "code",
   "execution_count": 4,
   "metadata": {},
   "outputs": [],
   "source": [
    "# function to create new brand column based on values in tweet\n",
    "def check_substring(tweet):\n",
    "    # check if any of the sub strings appear individually\n",
    "    apple_list = any(substring in tweet for substring in apple)\n",
    "    android_list = any(substring in tweet for substring in android)\n",
    "\n",
    "    if apple_list and android_list:\n",
    "        return \"both\"\n",
    "    elif apple_list:\n",
    "        return \"apple\"\n",
    "    elif android_list:\n",
    "        return \"android\"\n",
    "    else:\n",
    "        return \"unknown\"\n",
    "\n",
    "data['new_brand'] = data['tweet'].apply(check_substring)"
   ]
  },
  {
   "cell_type": "code",
   "execution_count": 5,
   "metadata": {},
   "outputs": [
    {
     "name": "stdout",
     "output_type": "stream",
     "text": [
      "<class 'pandas.core.frame.DataFrame'>\n",
      "Int64Index: 8936 entries, 0 to 9092\n",
      "Data columns (total 4 columns):\n",
      " #   Column     Non-Null Count  Dtype  \n",
      "---  ------     --------------  -----  \n",
      " 0   tweet      8936 non-null   object \n",
      " 1   brand_og   8936 non-null   object \n",
      " 2   target     8936 non-null   float64\n",
      " 3   new_brand  8936 non-null   object \n",
      "dtypes: float64(1), object(3)\n",
      "memory usage: 349.1+ KB\n"
     ]
    }
   ],
   "source": [
    "# Value counts for 'target'\n",
    "#target_counts = data['target'].value_counts()\n",
    "#print(\"Value counts for 'target':\")\n",
    "#print(target_counts)\n",
    "\n",
    "# Value counts for 'analysis'\n",
    "#analysis_counts = data['analysis'].value_counts()\n",
    "#print(\"\\nValue counts for 'analysis':\")\n",
    "#print(analysis_counts)\n",
    "\n",
    "data.info()"
   ]
  },
  {
   "cell_type": "code",
   "execution_count": 6,
   "metadata": {},
   "outputs": [
    {
     "data": {
      "text/plain": [
       "apple      5237\n",
       "android    2727\n",
       "unknown     716\n",
       "both        256\n",
       "Name: new_brand, dtype: int64"
      ]
     },
     "execution_count": 6,
     "metadata": {},
     "output_type": "execute_result"
    }
   ],
   "source": [
    "data['new_brand'].value_counts()"
   ]
  },
  {
   "cell_type": "code",
   "execution_count": 7,
   "metadata": {},
   "outputs": [
    {
     "name": "stdout",
     "output_type": "stream",
     "text": [
      "<class 'pandas.core.frame.DataFrame'>\n",
      "Int64Index: 5493 entries, 0 to 9091\n",
      "Data columns (total 4 columns):\n",
      " #   Column     Non-Null Count  Dtype  \n",
      "---  ------     --------------  -----  \n",
      " 0   tweet      5493 non-null   object \n",
      " 1   brand_og   5493 non-null   object \n",
      " 2   target     5493 non-null   float64\n",
      " 3   new_brand  5493 non-null   object \n",
      "dtypes: float64(1), object(3)\n",
      "memory usage: 214.6+ KB\n",
      "None\n",
      "apple    5237\n",
      "both      256\n",
      "Name: new_brand, dtype: int64\n"
     ]
    }
   ],
   "source": [
    "# drop android and unknown\n",
    "\n",
    "#### LOOK AT REORDERING THIS IT DOESNT FLOW WELL RIGHT NOW\n",
    "data_apple = data[~data['new_brand'].isin(['android', 'unknown'])]\n",
    "print(data_apple.info())\n",
    "print(data_apple['new_brand'].value_counts())"
   ]
  },
  {
   "cell_type": "code",
   "execution_count": 8,
   "metadata": {},
   "outputs": [],
   "source": [
    "\n",
    "# DONE - Text Standardization: Convert all the text to a standard format, typically lowercase, to ensure uniformity across the entire dataset.\n",
    "\n",
    "# DONE - Tokenization: Break the text into individual words or tokens. You can use libraries like NLTK (Natural Language Toolkit) or SpaCy for tokenization.\n",
    "\n",
    "# DONE of URLs: Since URLs do not provide useful information for NLP tasks, it's recommended to remove them. This can be achieved using regular expressions.\n",
    "\n",
    "# DONE - Removing @ mentions and Hashtags: The \"@\" mentions and \"#\" hashtags can be removed using regular expressions. Alternatively, you may want to replace them with the appropriate words that they are signifying. This can vary based on the specifics of your project.\n",
    "\n",
    "# DONE - Removing Emoji and Emoticons: These can either skew your model (since they may not be present in your training set) or they could be turned into standardized text. For example, :) can be converted to the word 'smile'. You can use an emoji library for this purpose.\n",
    "\n",
    "# DONE - Removing Punctuation: Punctuation can be removed using regular expressions or string manipulation functions.\n",
    "\n",
    "# DONE - Stopwords Removal: Words such as \"is\", \"and\", \"the\", etc., are often removed as they usually do not carry much useful information. Libraries like NLTK and SpaCy have built-in lists of stopwords that can be used.\n",
    "\n",
    "# DONE - Removing Numbers: Depending on the context, you might want to remove numbers. You can do this using regular expressions.\n",
    "\n",
    "# DONE - Stemming or Lemmatization: This process involves reducing a word to its root form. For example, \"running\" is reduced to \"run\". Stemming can be a crude process, but it's faster. Lemmatization is more accurate but computationally more intensive.\n",
    "\n",
    "# Handling Negations: Certain negation phrases like \"not good\", \"isn't\", \"wasn't\" etc. should be handled carefully. You may want to treat them as one term (\"not_good\", \"is_not\", \"was_not\") so that the sentiment isn't lost.\n",
    "\n",
    "# NOT DONE YET - Spell Checking: This is particularly important for tweets as they often contain misspelled words. You can use a library like pyspellchecker for this.\n",
    "\n",
    "# DONE - Removing Extra Whitespaces: Finally, make sure that there are no additional whitespaces in your text.\n",
    "\n",
    "# Keep in mind that not all these steps will be necessary for every NLP task, and some may even be counterproductive. For example, in sentiment analysis, removing emojis could potentially remove useful sentiment information. Similarly, if you're doing an authorship attribution task, you might want to keep features like capitalization, as they can be indicative of individual writing styles. Therefore, the steps should be tailored to the specifics of your NLP task.\n"
   ]
  },
  {
   "cell_type": "markdown",
   "metadata": {},
   "source": []
  },
  {
   "cell_type": "code",
   "execution_count": 9,
   "metadata": {},
   "outputs": [],
   "source": [
    "def clean_tweet(text):\n",
    "    # Remove hashtags (words starting with '#')\n",
    "    text = re.sub(r'#\\w+', '', text)\n",
    "    \n",
    "    # Handle RT tags\n",
    "    text = re.sub(r'[Rr][Tt]', '', text)\n",
    "    \n",
    "    # Remove mentions (words starting with '@')\n",
    "    text = re.sub(r'@\\w+', '', text)\n",
    "\n",
    "    # Remove URLs\n",
    "    text = re.sub(r'http\\S+|www\\S+|https\\S+', '', text)\n",
    "\n",
    "    # Remove non-ASCII characters\n",
    "    text = unicodedata.normalize('NFKD', text).encode('ascii', 'ignore').decode('utf-8')\n",
    "        \n",
    "    # Remove special characters and numbers not adjacent to text\n",
    "    text = re.sub(r'\\b\\d+\\b', '', text)\n",
    "\n",
    "    text = re.sub(r'[^\\w\\s]', '', text)  # Remove special characters\n",
    "    text = re.sub(r'\\s+', ' ', text)     # Remove extra spaces\n",
    "    \n",
    "    # Remove stopwords\n",
    "    stop_words = set(stopwords.words('english'))\n",
    "    cleaned_text = [word for word in text.split() if word not in stop_words]\n",
    "\n",
    "    # Unique words to remove, add more as needed\n",
    "    words_to_remove = ['Austin', 'Link', 'Sxsw', 'sxsw']\n",
    "\n",
    "    for word in words_to_remove:\n",
    "        cleaned_text = [w for w in cleaned_text if not re.match(r'\\b{}\\b'.format(word), w, flags=re.IGNORECASE)]\n",
    "\n",
    "    return ' '.join(cleaned_text)\n"
   ]
  },
  {
   "cell_type": "code",
   "execution_count": 10,
   "metadata": {},
   "outputs": [
    {
     "name": "stderr",
     "output_type": "stream",
     "text": [
      "<ipython-input-10-57996181ac56>:1: SettingWithCopyWarning: \n",
      "A value is trying to be set on a copy of a slice from a DataFrame.\n",
      "Try using .loc[row_indexer,col_indexer] = value instead\n",
      "\n",
      "See the caveats in the documentation: https://pandas.pydata.org/pandas-docs/stable/user_guide/indexing.html#returning-a-view-versus-a-copy\n",
      "  data_apple['cleaned_tweet'] = data_apple['tweet'].apply(clean_tweet)\n"
     ]
    },
    {
     "data": {
      "text/plain": [
       "0     3g iphone hrs tweeting dead need upgrade plugi...\n",
       "1     know awesome ipadiphone app youll likely appre...\n",
       "2                                        wait also sale\n",
       "3      hope years festival isnt crashy years iphone app\n",
       "5      new ipad apps communication showcased conference\n",
       "8            beautifully sma simple idea wrote ipad app\n",
       "9     counting days plus strong canadian dollar mean...\n",
       "14                                       great ipad app\n",
       "15                          haha awesomely rad ipad app\n",
       "16                holler gram ipad itunes app store via\n",
       "17    noticed dst coming weekend many iphone users h...\n",
       "18    added flights matching people planesairpos als...\n",
       "19    must app lovely review forbes ipad app holler ...\n",
       "20        need buy ipad2 im sure ill need q apple store\n",
       "21    oh god app ipad pure unadulterated awesome eas...\n",
       "Name: cleaned_tweet, dtype: object"
      ]
     },
     "execution_count": 10,
     "metadata": {},
     "output_type": "execute_result"
    }
   ],
   "source": [
    "data_apple['cleaned_tweet'] = data_apple['tweet'].apply(clean_tweet)\n",
    "data_apple['cleaned_tweet'].head(15)"
   ]
  },
  {
   "cell_type": "code",
   "execution_count": 11,
   "metadata": {},
   "outputs": [
    {
     "data": {
      "text/plain": [
       "str"
      ]
     },
     "execution_count": 11,
     "metadata": {},
     "output_type": "execute_result"
    }
   ],
   "source": [
    "type(data_apple['cleaned_tweet'][0])"
   ]
  },
  {
   "cell_type": "code",
   "execution_count": 12,
   "metadata": {},
   "outputs": [],
   "source": [
    "def tokenized_tweet(text):\n",
    "    # Tokenize the cleaned tweet\n",
    "    tknzr = TweetTokenizer()\n",
    "    tokenized_tweet = tknzr.tokenize(text)\n",
    "\n",
    "    # Apply lemmatization\n",
    "    lemmatizer = WordNetLemmatizer()\n",
    "    tokenized_tweet = [lemmatizer.lemmatize(word) for word in tokenized_tweet]\n",
    "\n",
    "    ##### takes an eternity to run\n",
    "    # Apply optimized spell correction\n",
    "    #tokenized_tweet = [optimized_spell_correction(word) for word in tokenized_tweet]\n",
    "\n",
    "    return tokenized_tweet"
   ]
  },
  {
   "cell_type": "code",
   "execution_count": 13,
   "metadata": {},
   "outputs": [
    {
     "name": "stderr",
     "output_type": "stream",
     "text": [
      "<ipython-input-13-079aa5cbfc21>:1: SettingWithCopyWarning: \n",
      "A value is trying to be set on a copy of a slice from a DataFrame.\n",
      "Try using .loc[row_indexer,col_indexer] = value instead\n",
      "\n",
      "See the caveats in the documentation: https://pandas.pydata.org/pandas-docs/stable/user_guide/indexing.html#returning-a-view-versus-a-copy\n",
      "  data_apple['tokenized_tweet'] = data_apple['cleaned_tweet'].apply(lambda x: tokenized_tweet(x))\n"
     ]
    },
    {
     "data": {
      "text/plain": [
       "0     [3g, iphone, hr, tweeting, dead, need, upgrade...\n",
       "1     [know, awesome, ipadiphone, app, youll, likely...\n",
       "2                                    [wait, also, sale]\n",
       "3     [hope, year, festival, isnt, crashy, year, iph...\n",
       "5     [new, ipad, apps, communication, showcased, co...\n",
       "8     [beautifully, sma, simple, idea, wrote, ipad, ...\n",
       "9     [counting, day, plus, strong, canadian, dollar...\n",
       "14                                   [great, ipad, app]\n",
       "15                    [haha, awesomely, rad, ipad, app]\n",
       "16        [holler, gram, ipad, itunes, app, store, via]\n",
       "17    [noticed, dst, coming, weekend, many, iphone, ...\n",
       "18    [added, flight, matching, people, planesairpos...\n",
       "19    [must, app, lovely, review, forbes, ipad, app,...\n",
       "20    [need, buy, ipad, 2, im, sure, ill, need, q, a...\n",
       "21    [oh, god, app, ipad, pure, unadulterated, awes...\n",
       "Name: tokenized_tweet, dtype: object"
      ]
     },
     "execution_count": 13,
     "metadata": {},
     "output_type": "execute_result"
    }
   ],
   "source": [
    "data_apple['tokenized_tweet'] = data_apple['cleaned_tweet'].apply(lambda x: tokenized_tweet(x))\n",
    "data_apple['tokenized_tweet'].head(15)\n",
    "\n"
   ]
  },
  {
   "cell_type": "code",
   "execution_count": 14,
   "metadata": {},
   "outputs": [
    {
     "name": "stdout",
     "output_type": "stream",
     "text": [
      "<class 'pandas.core.frame.DataFrame'>\n",
      "Int64Index: 5493 entries, 0 to 9091\n",
      "Data columns (total 6 columns):\n",
      " #   Column           Non-Null Count  Dtype  \n",
      "---  ------           --------------  -----  \n",
      " 0   tweet            5493 non-null   object \n",
      " 1   brand_og         5493 non-null   object \n",
      " 2   target           5493 non-null   float64\n",
      " 3   new_brand        5493 non-null   object \n",
      " 4   cleaned_tweet    5493 non-null   object \n",
      " 5   tokenized_tweet  5493 non-null   object \n",
      "dtypes: float64(1), object(5)\n",
      "memory usage: 460.4+ KB\n"
     ]
    }
   ],
   "source": [
    "data_apple.info()"
   ]
  },
  {
   "cell_type": "code",
   "execution_count": 15,
   "metadata": {},
   "outputs": [
    {
     "name": "stdout",
     "output_type": "stream",
     "text": [
      "Value counts for 'target':\n",
      " 0.0    2929\n",
      " 1.0    2144\n",
      "-1.0     420\n",
      "Name: target, dtype: int64\n",
      "\n",
      "Value counts for 'analysis':\n",
      " 1.0    2466\n",
      " 0.0    2464\n",
      "-1.0     563\n",
      "Name: analysis, dtype: int64\n"
     ]
    },
    {
     "name": "stderr",
     "output_type": "stream",
     "text": [
      "<ipython-input-15-a7674c79de06>:11: SettingWithCopyWarning: \n",
      "A value is trying to be set on a copy of a slice from a DataFrame.\n",
      "Try using .loc[row_indexer,col_indexer] = value instead\n",
      "\n",
      "See the caveats in the documentation: https://pandas.pydata.org/pandas-docs/stable/user_guide/indexing.html#returning-a-view-versus-a-copy\n",
      "  data_apple['polarity'] = data_apple['cleaned_tweet'].apply(lambda text: TextBlob(text).sentiment.polarity)\n",
      "<ipython-input-15-a7674c79de06>:12: SettingWithCopyWarning: \n",
      "A value is trying to be set on a copy of a slice from a DataFrame.\n",
      "Try using .loc[row_indexer,col_indexer] = value instead\n",
      "\n",
      "See the caveats in the documentation: https://pandas.pydata.org/pandas-docs/stable/user_guide/indexing.html#returning-a-view-versus-a-copy\n",
      "  data_apple['analysis'] = data_apple['polarity'].apply(ratio)\n",
      "<ipython-input-15-a7674c79de06>:13: SettingWithCopyWarning: \n",
      "A value is trying to be set on a copy of a slice from a DataFrame.\n",
      "Try using .loc[row_indexer,col_indexer] = value instead\n",
      "\n",
      "See the caveats in the documentation: https://pandas.pydata.org/pandas-docs/stable/user_guide/indexing.html#returning-a-view-versus-a-copy\n",
      "  data_apple['analysis'] = data_apple['analysis'].astype(float)\n",
      "<ipython-input-15-a7674c79de06>:14: SettingWithCopyWarning: \n",
      "A value is trying to be set on a copy of a slice from a DataFrame.\n",
      "Try using .loc[row_indexer,col_indexer] = value instead\n",
      "\n",
      "See the caveats in the documentation: https://pandas.pydata.org/pandas-docs/stable/user_guide/indexing.html#returning-a-view-versus-a-copy\n",
      "  data_apple['analysis'] = data_apple['analysis'].round(3)\n"
     ]
    }
   ],
   "source": [
    "# Creating function for calculating positive, negative and neutral\n",
    "def ratio(x):\n",
    " if x > 0:\n",
    "    return 1\n",
    " elif x == 0:\n",
    "    return 0\n",
    " else:\n",
    "    return -1\n",
    "\n",
    "# Creating new column and rounding to one decimal for easier viewing\n",
    "data_apple['polarity'] = data_apple['cleaned_tweet'].apply(lambda text: TextBlob(text).sentiment.polarity)\n",
    "data_apple['analysis'] = data_apple['polarity'].apply(ratio)\n",
    "data_apple['analysis'] = data_apple['analysis'].astype(float)\n",
    "data_apple['analysis'] = data_apple['analysis'].round(3)\n",
    "\n",
    "# Value counts for 'target'\n",
    "target_counts = data_apple['target'].value_counts()\n",
    "\n",
    "# Value counts for 'analysis'\n",
    "analysis_counts = data_apple['analysis'].value_counts()\n",
    "\n",
    "print(\"Value counts for 'target':\")\n",
    "print(target_counts)\n",
    "\n",
    "print(\"\\nValue counts for 'analysis':\")\n",
    "print(analysis_counts)"
   ]
  },
  {
   "cell_type": "code",
   "execution_count": 16,
   "metadata": {},
   "outputs": [
    {
     "name": "stdout",
     "output_type": "stream",
     "text": [
      "Value counts for 'target':\n",
      " 0.0    2647\n",
      " 1.0    2144\n",
      "-1.0     702\n",
      "Name: target, dtype: int64\n",
      "\n",
      "Value counts for 'analysis':\n",
      " 1.0    2466\n",
      " 0.0    2464\n",
      "-1.0     563\n",
      "Name: analysis, dtype: int64\n"
     ]
    },
    {
     "name": "stderr",
     "output_type": "stream",
     "text": [
      "c:\\Users\\sean8\\Anaconda3 Software\\envs\\learn-env\\lib\\site-packages\\pandas\\core\\indexing.py:1745: SettingWithCopyWarning: \n",
      "A value is trying to be set on a copy of a slice from a DataFrame.\n",
      "Try using .loc[row_indexer,col_indexer] = value instead\n",
      "\n",
      "See the caveats in the documentation: https://pandas.pydata.org/pandas-docs/stable/user_guide/indexing.html#returning-a-view-versus-a-copy\n",
      "  isetter(ilocs[0], value)\n"
     ]
    }
   ],
   "source": [
    "# focusing on negative and positive tweets only for first iteration of the model\n",
    "data_apple.loc[(data_apple['target'] == 0) & (data_apple['analysis'] == -1), 'target'] = data_apple['analysis']\n",
    "\n",
    "# Value counts for 'target'\n",
    "target_counts = data_apple['target'].value_counts()\n",
    "\n",
    "# Value counts for 'analysis'\n",
    "analysis_counts = data_apple['analysis'].value_counts()\n",
    "\n",
    "print(\"Value counts for 'target':\")\n",
    "print(target_counts)\n",
    "\n",
    "print(\"\\nValue counts for 'analysis':\")\n",
    "print(analysis_counts)"
   ]
  },
  {
   "cell_type": "code",
   "execution_count": 17,
   "metadata": {},
   "outputs": [
    {
     "name": "stdout",
     "output_type": "stream",
     "text": [
      "Value counts for 'target':\n",
      " 1.0    2144\n",
      "-1.0     702\n",
      "Name: target, dtype: int64\n",
      "Negative sentiment is 24.5% of the data\n"
     ]
    }
   ],
   "source": [
    "# drop nuetral sentiment to focus on positive and negative sentiment for this itteration\n",
    "data_apple = data_apple.drop(data_apple[data_apple['target'] == 0.0].index)\n",
    "\n",
    "# Value counts for 'target'\n",
    "target_counts = data_apple['target'].value_counts()\n",
    "\n",
    "# Value counts for 'analysis'\n",
    "analysis_counts = data_apple['analysis'].value_counts()\n",
    "\n",
    "print(\"Value counts for 'target':\")\n",
    "print(target_counts)\n",
    "print(\"Negative sentiment is 24.5% of the data\")"
   ]
  },
  {
   "cell_type": "code",
   "execution_count": 18,
   "metadata": {},
   "outputs": [
    {
     "data": {
      "image/png": "[encoded data removed]",
      "text/plain": [
       "<Figure size 1152x432 with 1 Axes>"
      ]
     },
     "metadata": {
      "needs_background": "light"
     },
     "output_type": "display_data"
    }
   ],
   "source": [
    "# Convert tokenized tweets back to strings\n",
    "data_apple['cleaned_tweet_str'] = data_apple['cleaned_tweet'].apply(lambda tokens: ' '.join(tokens))\n",
    "data_apple['cleaned_tweet_str'].astype(str)\n",
    "\n",
    "# Initialize CountVectorizer with stop_words\n",
    "cv = CountVectorizer(stop_words='english')\n",
    "\n",
    "# Fit and transform the training data\n",
    "X_counts = cv.fit_transform(data_apple['cleaned_tweet'])\n",
    "\n",
    "# Rest of the code remains the same\n",
    "# Get the word frequencies\n",
    "sum_words = X_counts.sum(axis=0)\n",
    "# Create a list of (word, frequency) tuples\n",
    "frequencies = [(word, sum_words[0, i]) for word, i in cv.vocabulary_.items()]\n",
    "# Sort the frequencies in descending order\n",
    "frequencies = sorted(frequencies, key=lambda x: x[1], reverse=True)\n",
    "# Convert the list to a DataFrame\n",
    "df_frequencies = pd.DataFrame(frequencies, columns=['word', 'frequency'])\n",
    "\n",
    "# Plot the top 20 most frequent words\n",
    "plt.style.use('bmh')\n",
    "fig, ax = plt.subplots(figsize=(16, 6))\n",
    "sns.barplot(x='word', y='frequency', data=df_frequencies.head(20), palette='Greys_r')\n",
    "ax.set_title('Top 20 Most Frequent Words', fontsize=16)\n",
    "ax.set(xlabel=None, ylabel=None)\n",
    "plt.xticks(rotation=45, ha='right')\n",
    "plt.tight_layout()\n",
    "plt.show()"
   ]
  },
  {
   "cell_type": "code",
   "execution_count": 19,
   "metadata": {},
   "outputs": [
    {
     "name": "stdout",
     "output_type": "stream",
     "text": [
      "<class 'pandas.core.frame.DataFrame'>\n",
      "Int64Index: 2846 entries, 0 to 9091\n",
      "Data columns (total 9 columns):\n",
      " #   Column             Non-Null Count  Dtype  \n",
      "---  ------             --------------  -----  \n",
      " 0   tweet              2846 non-null   object \n",
      " 1   brand_og           2846 non-null   object \n",
      " 2   target             2846 non-null   float64\n",
      " 3   new_brand          2846 non-null   object \n",
      " 4   cleaned_tweet      2846 non-null   object \n",
      " 5   tokenized_tweet    2846 non-null   object \n",
      " 6   polarity           2846 non-null   float64\n",
      " 7   analysis           2846 non-null   float64\n",
      " 8   cleaned_tweet_str  2846 non-null   object \n",
      "dtypes: float64(3), object(6)\n",
      "memory usage: 222.3+ KB\n"
     ]
    }
   ],
   "source": [
    "data_apple.info()\n",
    "#### How is it all back...I'm too tired"
   ]
  },
  {
   "cell_type": "code",
   "execution_count": 40,
   "metadata": {},
   "outputs": [],
   "source": [
    "# dropping columns before creating new csv file called modified_data_apple.csv\n",
    "df_csv = data_apple.drop(columns=['tweet', 'brand_og', 'polarity', 'analysis'])\n",
    "df_csv.to_csv('modified_data_apple.csv', index=False)\n"
   ]
  },
  {
   "cell_type": "code",
   "execution_count": 38,
   "metadata": {},
   "outputs": [
    {
     "data": {
      "text/plain": [
       "0"
      ]
     },
     "execution_count": 38,
     "metadata": {},
     "output_type": "execute_result"
    }
   ],
   "source": [
    "df_csv.isna().sum().sum()"
   ]
  },
  {
   "cell_type": "code",
   "execution_count": 31,
   "metadata": {},
   "outputs": [],
   "source": [
    "X = data_apple['cleaned_tweet']\n",
    "y = data_apple['target']\n",
    "\n",
    "X_train, X_test, y_train, y_test = train_test_split(X, y, test_size=0.2, random_state=24)"
   ]
  },
  {
   "cell_type": "code",
   "execution_count": 32,
   "metadata": {},
   "outputs": [
    {
     "name": "stdout",
     "output_type": "stream",
     "text": [
      "Class counts:  Counter({1.0: 1726, -1.0: 550})\n",
      "Majority Count:  1726\n",
      "Minority Count:  550\n"
     ]
    }
   ],
   "source": [
    "from collections import Counter\n",
    "\n",
    "# Determine the class counts\n",
    "class_counts = Counter(y_train)\n",
    "majority_count = class_counts[1]\n",
    "minority_count = class_counts[-1]\n",
    "\n",
    "print(\"Class counts: \", class_counts)\n",
    "print('Majority Count: ', majority_count)\n",
    "print('Minority Count: ', minority_count)"
   ]
  },
  {
   "cell_type": "code",
   "execution_count": 41,
   "metadata": {},
   "outputs": [
    {
     "ename": "AttributeError",
     "evalue": "'NoneType' object has no attribute 'split'",
     "output_type": "error",
     "traceback": [
      "\u001b[1;31m---------------------------------------------------------------------------\u001b[0m",
      "\u001b[1;31mAttributeError\u001b[0m                            Traceback (most recent call last)",
      "\u001b[1;32m<ipython-input-41-b50087c4e311>\u001b[0m in \u001b[0;36m<module>\u001b[1;34m\u001b[0m\n\u001b[0;32m     12\u001b[0m \u001b[1;31m# Applying SMOTE\u001b[0m\u001b[1;33m\u001b[0m\u001b[1;33m\u001b[0m\u001b[1;33m\u001b[0m\u001b[0m\n\u001b[0;32m     13\u001b[0m \u001b[0msmote\u001b[0m \u001b[1;33m=\u001b[0m \u001b[0mSMOTE\u001b[0m\u001b[1;33m(\u001b[0m\u001b[0msampling_strategy\u001b[0m\u001b[1;33m=\u001b[0m\u001b[1;34m'auto'\u001b[0m\u001b[1;33m)\u001b[0m\u001b[1;33m\u001b[0m\u001b[1;33m\u001b[0m\u001b[0m\n\u001b[1;32m---> 14\u001b[1;33m \u001b[0mX_resampled\u001b[0m\u001b[1;33m,\u001b[0m \u001b[0my_resampled\u001b[0m \u001b[1;33m=\u001b[0m \u001b[0msmote\u001b[0m\u001b[1;33m.\u001b[0m\u001b[0mfit_resample\u001b[0m\u001b[1;33m(\u001b[0m\u001b[0mX_train_tfidf\u001b[0m\u001b[1;33m,\u001b[0m \u001b[0my_train\u001b[0m\u001b[1;33m)\u001b[0m\u001b[1;33m\u001b[0m\u001b[1;33m\u001b[0m\u001b[0m\n\u001b[0m\u001b[0;32m     15\u001b[0m \u001b[1;33m\u001b[0m\u001b[0m\n\u001b[0;32m     16\u001b[0m \u001b[1;31m# Applying RandomUnderSampler to make minority class 40% of total\u001b[0m\u001b[1;33m\u001b[0m\u001b[1;33m\u001b[0m\u001b[1;33m\u001b[0m\u001b[0m\n",
      "\u001b[1;32mc:\\Users\\sean8\\Anaconda3 Software\\envs\\learn-env\\lib\\site-packages\\imblearn\\base.py\u001b[0m in \u001b[0;36mfit_resample\u001b[1;34m(self, X, y)\u001b[0m\n\u001b[0;32m    206\u001b[0m         \"\"\"\n\u001b[0;32m    207\u001b[0m         \u001b[0mself\u001b[0m\u001b[1;33m.\u001b[0m\u001b[0m_validate_params\u001b[0m\u001b[1;33m(\u001b[0m\u001b[1;33m)\u001b[0m\u001b[1;33m\u001b[0m\u001b[1;33m\u001b[0m\u001b[0m\n\u001b[1;32m--> 208\u001b[1;33m         \u001b[1;32mreturn\u001b[0m \u001b[0msuper\u001b[0m\u001b[1;33m(\u001b[0m\u001b[1;33m)\u001b[0m\u001b[1;33m.\u001b[0m\u001b[0mfit_resample\u001b[0m\u001b[1;33m(\u001b[0m\u001b[0mX\u001b[0m\u001b[1;33m,\u001b[0m \u001b[0my\u001b[0m\u001b[1;33m)\u001b[0m\u001b[1;33m\u001b[0m\u001b[1;33m\u001b[0m\u001b[0m\n\u001b[0m\u001b[0;32m    209\u001b[0m \u001b[1;33m\u001b[0m\u001b[0m\n\u001b[0;32m    210\u001b[0m     \u001b[1;32mdef\u001b[0m \u001b[0m_more_tags\u001b[0m\u001b[1;33m(\u001b[0m\u001b[0mself\u001b[0m\u001b[1;33m)\u001b[0m\u001b[1;33m:\u001b[0m\u001b[1;33m\u001b[0m\u001b[1;33m\u001b[0m\u001b[0m\n",
      "\u001b[1;32mc:\\Users\\sean8\\Anaconda3 Software\\envs\\learn-env\\lib\\site-packages\\imblearn\\base.py\u001b[0m in \u001b[0;36mfit_resample\u001b[1;34m(self, X, y)\u001b[0m\n\u001b[0;32m    110\u001b[0m         )\n\u001b[0;32m    111\u001b[0m \u001b[1;33m\u001b[0m\u001b[0m\n\u001b[1;32m--> 112\u001b[1;33m         \u001b[0moutput\u001b[0m \u001b[1;33m=\u001b[0m \u001b[0mself\u001b[0m\u001b[1;33m.\u001b[0m\u001b[0m_fit_resample\u001b[0m\u001b[1;33m(\u001b[0m\u001b[0mX\u001b[0m\u001b[1;33m,\u001b[0m \u001b[0my\u001b[0m\u001b[1;33m)\u001b[0m\u001b[1;33m\u001b[0m\u001b[1;33m\u001b[0m\u001b[0m\n\u001b[0m\u001b[0;32m    113\u001b[0m \u001b[1;33m\u001b[0m\u001b[0m\n\u001b[0;32m    114\u001b[0m         y_ = (\n",
      "\u001b[1;32mc:\\Users\\sean8\\Anaconda3 Software\\envs\\learn-env\\lib\\site-packages\\imblearn\\over_sampling\\_smote\\base.py\u001b[0m in \u001b[0;36m_fit_resample\u001b[1;34m(self, X, y)\u001b[0m\n\u001b[0;32m    362\u001b[0m \u001b[1;33m\u001b[0m\u001b[0m\n\u001b[0;32m    363\u001b[0m             \u001b[0mself\u001b[0m\u001b[1;33m.\u001b[0m\u001b[0mnn_k_\u001b[0m\u001b[1;33m.\u001b[0m\u001b[0mfit\u001b[0m\u001b[1;33m(\u001b[0m\u001b[0mX_class\u001b[0m\u001b[1;33m)\u001b[0m\u001b[1;33m\u001b[0m\u001b[1;33m\u001b[0m\u001b[0m\n\u001b[1;32m--> 364\u001b[1;33m             \u001b[0mnns\u001b[0m \u001b[1;33m=\u001b[0m \u001b[0mself\u001b[0m\u001b[1;33m.\u001b[0m\u001b[0mnn_k_\u001b[0m\u001b[1;33m.\u001b[0m\u001b[0mkneighbors\u001b[0m\u001b[1;33m(\u001b[0m\u001b[0mX_class\u001b[0m\u001b[1;33m,\u001b[0m \u001b[0mreturn_distance\u001b[0m\u001b[1;33m=\u001b[0m\u001b[1;32mFalse\u001b[0m\u001b[1;33m)\u001b[0m\u001b[1;33m[\u001b[0m\u001b[1;33m:\u001b[0m\u001b[1;33m,\u001b[0m \u001b[1;36m1\u001b[0m\u001b[1;33m:\u001b[0m\u001b[1;33m]\u001b[0m\u001b[1;33m\u001b[0m\u001b[1;33m\u001b[0m\u001b[0m\n\u001b[0m\u001b[0;32m    365\u001b[0m             X_new, y_new = self._make_samples(\n\u001b[0;32m    366\u001b[0m                 \u001b[0mX_class\u001b[0m\u001b[1;33m,\u001b[0m \u001b[0my\u001b[0m\u001b[1;33m.\u001b[0m\u001b[0mdtype\u001b[0m\u001b[1;33m,\u001b[0m \u001b[0mclass_sample\u001b[0m\u001b[1;33m,\u001b[0m \u001b[0mX_class\u001b[0m\u001b[1;33m,\u001b[0m \u001b[0mnns\u001b[0m\u001b[1;33m,\u001b[0m \u001b[0mn_samples\u001b[0m\u001b[1;33m,\u001b[0m \u001b[1;36m1.0\u001b[0m\u001b[1;33m\u001b[0m\u001b[1;33m\u001b[0m\u001b[0m\n",
      "\u001b[1;32mc:\\Users\\sean8\\Anaconda3 Software\\envs\\learn-env\\lib\\site-packages\\sklearn\\neighbors\\_base.py\u001b[0m in \u001b[0;36mkneighbors\u001b[1;34m(self, X, n_neighbors, return_distance)\u001b[0m\n\u001b[0;32m    820\u001b[0m         )\n\u001b[0;32m    821\u001b[0m         \u001b[1;32mif\u001b[0m \u001b[0muse_pairwise_distances_reductions\u001b[0m\u001b[1;33m:\u001b[0m\u001b[1;33m\u001b[0m\u001b[1;33m\u001b[0m\u001b[0m\n\u001b[1;32m--> 822\u001b[1;33m             results = ArgKmin.compute(\n\u001b[0m\u001b[0;32m    823\u001b[0m                 \u001b[0mX\u001b[0m\u001b[1;33m=\u001b[0m\u001b[0mX\u001b[0m\u001b[1;33m,\u001b[0m\u001b[1;33m\u001b[0m\u001b[1;33m\u001b[0m\u001b[0m\n\u001b[0;32m    824\u001b[0m                 \u001b[0mY\u001b[0m\u001b[1;33m=\u001b[0m\u001b[0mself\u001b[0m\u001b[1;33m.\u001b[0m\u001b[0m_fit_X\u001b[0m\u001b[1;33m,\u001b[0m\u001b[1;33m\u001b[0m\u001b[1;33m\u001b[0m\u001b[0m\n",
      "\u001b[1;32mc:\\Users\\sean8\\Anaconda3 Software\\envs\\learn-env\\lib\\site-packages\\sklearn\\metrics\\_pairwise_distances_reduction\\_dispatcher.py\u001b[0m in \u001b[0;36mcompute\u001b[1;34m(cls, X, Y, k, metric, chunk_size, metric_kwargs, strategy, return_distance)\u001b[0m\n\u001b[0;32m    256\u001b[0m         \"\"\"\n\u001b[0;32m    257\u001b[0m         \u001b[1;32mif\u001b[0m \u001b[0mX\u001b[0m\u001b[1;33m.\u001b[0m\u001b[0mdtype\u001b[0m \u001b[1;33m==\u001b[0m \u001b[0mY\u001b[0m\u001b[1;33m.\u001b[0m\u001b[0mdtype\u001b[0m \u001b[1;33m==\u001b[0m \u001b[0mnp\u001b[0m\u001b[1;33m.\u001b[0m\u001b[0mfloat64\u001b[0m\u001b[1;33m:\u001b[0m\u001b[1;33m\u001b[0m\u001b[1;33m\u001b[0m\u001b[0m\n\u001b[1;32m--> 258\u001b[1;33m             return ArgKmin64.compute(\n\u001b[0m\u001b[0;32m    259\u001b[0m                 \u001b[0mX\u001b[0m\u001b[1;33m=\u001b[0m\u001b[0mX\u001b[0m\u001b[1;33m,\u001b[0m\u001b[1;33m\u001b[0m\u001b[1;33m\u001b[0m\u001b[0m\n\u001b[0;32m    260\u001b[0m                 \u001b[0mY\u001b[0m\u001b[1;33m=\u001b[0m\u001b[0mY\u001b[0m\u001b[1;33m,\u001b[0m\u001b[1;33m\u001b[0m\u001b[1;33m\u001b[0m\u001b[0m\n",
      "\u001b[1;32msklearn\\metrics\\_pairwise_distances_reduction\\_argkmin.pyx\u001b[0m in \u001b[0;36msklearn.metrics._pairwise_distances_reduction._argkmin.ArgKmin64.compute\u001b[1;34m()\u001b[0m\n",
      "\u001b[1;32mc:\\Users\\sean8\\Anaconda3 Software\\envs\\learn-env\\lib\\site-packages\\sklearn\\utils\\fixes.py\u001b[0m in \u001b[0;36mthreadpool_limits\u001b[1;34m(limits, user_api)\u001b[0m\n\u001b[0;32m     70\u001b[0m         \u001b[1;32mreturn\u001b[0m \u001b[0mcontroller\u001b[0m\u001b[1;33m.\u001b[0m\u001b[0mlimit\u001b[0m\u001b[1;33m(\u001b[0m\u001b[0mlimits\u001b[0m\u001b[1;33m=\u001b[0m\u001b[0mlimits\u001b[0m\u001b[1;33m,\u001b[0m \u001b[0muser_api\u001b[0m\u001b[1;33m=\u001b[0m\u001b[0muser_api\u001b[0m\u001b[1;33m)\u001b[0m\u001b[1;33m\u001b[0m\u001b[1;33m\u001b[0m\u001b[0m\n\u001b[0;32m     71\u001b[0m     \u001b[1;32melse\u001b[0m\u001b[1;33m:\u001b[0m\u001b[1;33m\u001b[0m\u001b[1;33m\u001b[0m\u001b[0m\n\u001b[1;32m---> 72\u001b[1;33m         \u001b[1;32mreturn\u001b[0m \u001b[0mthreadpoolctl\u001b[0m\u001b[1;33m.\u001b[0m\u001b[0mthreadpool_limits\u001b[0m\u001b[1;33m(\u001b[0m\u001b[0mlimits\u001b[0m\u001b[1;33m=\u001b[0m\u001b[0mlimits\u001b[0m\u001b[1;33m,\u001b[0m \u001b[0muser_api\u001b[0m\u001b[1;33m=\u001b[0m\u001b[0muser_api\u001b[0m\u001b[1;33m)\u001b[0m\u001b[1;33m\u001b[0m\u001b[1;33m\u001b[0m\u001b[0m\n\u001b[0m\u001b[0;32m     73\u001b[0m \u001b[1;33m\u001b[0m\u001b[0m\n\u001b[0;32m     74\u001b[0m \u001b[1;33m\u001b[0m\u001b[0m\n",
      "\u001b[1;32mc:\\Users\\sean8\\Anaconda3 Software\\envs\\learn-env\\lib\\site-packages\\threadpoolctl.py\u001b[0m in \u001b[0;36m__init__\u001b[1;34m(self, limits, user_api)\u001b[0m\n\u001b[0;32m    169\u001b[0m             \u001b[0mself\u001b[0m\u001b[1;33m.\u001b[0m\u001b[0m_check_params\u001b[0m\u001b[1;33m(\u001b[0m\u001b[0mlimits\u001b[0m\u001b[1;33m,\u001b[0m \u001b[0muser_api\u001b[0m\u001b[1;33m)\u001b[0m\u001b[1;33m\u001b[0m\u001b[1;33m\u001b[0m\u001b[0m\n\u001b[0;32m    170\u001b[0m \u001b[1;33m\u001b[0m\u001b[0m\n\u001b[1;32m--> 171\u001b[1;33m         \u001b[0mself\u001b[0m\u001b[1;33m.\u001b[0m\u001b[0m_original_info\u001b[0m \u001b[1;33m=\u001b[0m \u001b[0mself\u001b[0m\u001b[1;33m.\u001b[0m\u001b[0m_set_threadpool_limits\u001b[0m\u001b[1;33m(\u001b[0m\u001b[1;33m)\u001b[0m\u001b[1;33m\u001b[0m\u001b[1;33m\u001b[0m\u001b[0m\n\u001b[0m\u001b[0;32m    172\u001b[0m \u001b[1;33m\u001b[0m\u001b[0m\n\u001b[0;32m    173\u001b[0m     \u001b[1;32mdef\u001b[0m \u001b[0m__enter__\u001b[0m\u001b[1;33m(\u001b[0m\u001b[0mself\u001b[0m\u001b[1;33m)\u001b[0m\u001b[1;33m:\u001b[0m\u001b[1;33m\u001b[0m\u001b[1;33m\u001b[0m\u001b[0m\n",
      "\u001b[1;32mc:\\Users\\sean8\\Anaconda3 Software\\envs\\learn-env\\lib\\site-packages\\threadpoolctl.py\u001b[0m in \u001b[0;36m_set_threadpool_limits\u001b[1;34m(self)\u001b[0m\n\u001b[0;32m    266\u001b[0m             \u001b[1;32mreturn\u001b[0m \u001b[1;32mNone\u001b[0m\u001b[1;33m\u001b[0m\u001b[1;33m\u001b[0m\u001b[0m\n\u001b[0;32m    267\u001b[0m \u001b[1;33m\u001b[0m\u001b[0m\n\u001b[1;32m--> 268\u001b[1;33m         modules = _ThreadpoolInfo(prefixes=self._prefixes,\n\u001b[0m\u001b[0;32m    269\u001b[0m                                   user_api=self._user_api)\n\u001b[0;32m    270\u001b[0m         \u001b[1;32mfor\u001b[0m \u001b[0mmodule\u001b[0m \u001b[1;32min\u001b[0m \u001b[0mmodules\u001b[0m\u001b[1;33m:\u001b[0m\u001b[1;33m\u001b[0m\u001b[1;33m\u001b[0m\u001b[0m\n",
      "\u001b[1;32mc:\\Users\\sean8\\Anaconda3 Software\\envs\\learn-env\\lib\\site-packages\\threadpoolctl.py\u001b[0m in \u001b[0;36m__init__\u001b[1;34m(self, user_api, prefixes, modules)\u001b[0m\n\u001b[0;32m    338\u001b[0m \u001b[1;33m\u001b[0m\u001b[0m\n\u001b[0;32m    339\u001b[0m             \u001b[0mself\u001b[0m\u001b[1;33m.\u001b[0m\u001b[0mmodules\u001b[0m \u001b[1;33m=\u001b[0m \u001b[1;33m[\u001b[0m\u001b[1;33m]\u001b[0m\u001b[1;33m\u001b[0m\u001b[1;33m\u001b[0m\u001b[0m\n\u001b[1;32m--> 340\u001b[1;33m             \u001b[0mself\u001b[0m\u001b[1;33m.\u001b[0m\u001b[0m_load_modules\u001b[0m\u001b[1;33m(\u001b[0m\u001b[1;33m)\u001b[0m\u001b[1;33m\u001b[0m\u001b[1;33m\u001b[0m\u001b[0m\n\u001b[0m\u001b[0;32m    341\u001b[0m             \u001b[0mself\u001b[0m\u001b[1;33m.\u001b[0m\u001b[0m_warn_if_incompatible_openmp\u001b[0m\u001b[1;33m(\u001b[0m\u001b[1;33m)\u001b[0m\u001b[1;33m\u001b[0m\u001b[1;33m\u001b[0m\u001b[0m\n\u001b[0;32m    342\u001b[0m         \u001b[1;32melse\u001b[0m\u001b[1;33m:\u001b[0m\u001b[1;33m\u001b[0m\u001b[1;33m\u001b[0m\u001b[0m\n",
      "\u001b[1;32mc:\\Users\\sean8\\Anaconda3 Software\\envs\\learn-env\\lib\\site-packages\\threadpoolctl.py\u001b[0m in \u001b[0;36m_load_modules\u001b[1;34m(self)\u001b[0m\n\u001b[0;32m    371\u001b[0m             \u001b[0mself\u001b[0m\u001b[1;33m.\u001b[0m\u001b[0m_find_modules_with_dyld\u001b[0m\u001b[1;33m(\u001b[0m\u001b[1;33m)\u001b[0m\u001b[1;33m\u001b[0m\u001b[1;33m\u001b[0m\u001b[0m\n\u001b[0;32m    372\u001b[0m         \u001b[1;32melif\u001b[0m \u001b[0msys\u001b[0m\u001b[1;33m.\u001b[0m\u001b[0mplatform\u001b[0m \u001b[1;33m==\u001b[0m \u001b[1;34m\"win32\"\u001b[0m\u001b[1;33m:\u001b[0m\u001b[1;33m\u001b[0m\u001b[1;33m\u001b[0m\u001b[0m\n\u001b[1;32m--> 373\u001b[1;33m             \u001b[0mself\u001b[0m\u001b[1;33m.\u001b[0m\u001b[0m_find_modules_with_enum_process_module_ex\u001b[0m\u001b[1;33m(\u001b[0m\u001b[1;33m)\u001b[0m\u001b[1;33m\u001b[0m\u001b[1;33m\u001b[0m\u001b[0m\n\u001b[0m\u001b[0;32m    374\u001b[0m         \u001b[1;32melse\u001b[0m\u001b[1;33m:\u001b[0m\u001b[1;33m\u001b[0m\u001b[1;33m\u001b[0m\u001b[0m\n\u001b[0;32m    375\u001b[0m             \u001b[0mself\u001b[0m\u001b[1;33m.\u001b[0m\u001b[0m_find_modules_with_dl_iterate_phdr\u001b[0m\u001b[1;33m(\u001b[0m\u001b[1;33m)\u001b[0m\u001b[1;33m\u001b[0m\u001b[1;33m\u001b[0m\u001b[0m\n",
      "\u001b[1;32mc:\\Users\\sean8\\Anaconda3 Software\\envs\\learn-env\\lib\\site-packages\\threadpoolctl.py\u001b[0m in \u001b[0;36m_find_modules_with_enum_process_module_ex\u001b[1;34m(self)\u001b[0m\n\u001b[0;32m    483\u001b[0m \u001b[1;33m\u001b[0m\u001b[0m\n\u001b[0;32m    484\u001b[0m                 \u001b[1;31m# Store the module if it is supported and selected\u001b[0m\u001b[1;33m\u001b[0m\u001b[1;33m\u001b[0m\u001b[1;33m\u001b[0m\u001b[0m\n\u001b[1;32m--> 485\u001b[1;33m                 \u001b[0mself\u001b[0m\u001b[1;33m.\u001b[0m\u001b[0m_make_module_from_path\u001b[0m\u001b[1;33m(\u001b[0m\u001b[0mfilepath\u001b[0m\u001b[1;33m)\u001b[0m\u001b[1;33m\u001b[0m\u001b[1;33m\u001b[0m\u001b[0m\n\u001b[0m\u001b[0;32m    486\u001b[0m         \u001b[1;32mfinally\u001b[0m\u001b[1;33m:\u001b[0m\u001b[1;33m\u001b[0m\u001b[1;33m\u001b[0m\u001b[0m\n\u001b[0;32m    487\u001b[0m             \u001b[0mkernel_32\u001b[0m\u001b[1;33m.\u001b[0m\u001b[0mCloseHandle\u001b[0m\u001b[1;33m(\u001b[0m\u001b[0mh_process\u001b[0m\u001b[1;33m)\u001b[0m\u001b[1;33m\u001b[0m\u001b[1;33m\u001b[0m\u001b[0m\n",
      "\u001b[1;32mc:\\Users\\sean8\\Anaconda3 Software\\envs\\learn-env\\lib\\site-packages\\threadpoolctl.py\u001b[0m in \u001b[0;36m_make_module_from_path\u001b[1;34m(self, filepath)\u001b[0m\n\u001b[0;32m    513\u001b[0m             \u001b[1;32mif\u001b[0m \u001b[0mprefix\u001b[0m \u001b[1;32min\u001b[0m \u001b[0mself\u001b[0m\u001b[1;33m.\u001b[0m\u001b[0mprefixes\u001b[0m \u001b[1;32mor\u001b[0m \u001b[0muser_api\u001b[0m \u001b[1;32min\u001b[0m \u001b[0mself\u001b[0m\u001b[1;33m.\u001b[0m\u001b[0muser_api\u001b[0m\u001b[1;33m:\u001b[0m\u001b[1;33m\u001b[0m\u001b[1;33m\u001b[0m\u001b[0m\n\u001b[0;32m    514\u001b[0m                 \u001b[0mmodule_class\u001b[0m \u001b[1;33m=\u001b[0m \u001b[0mglobals\u001b[0m\u001b[1;33m(\u001b[0m\u001b[1;33m)\u001b[0m\u001b[1;33m[\u001b[0m\u001b[0mmodule_class\u001b[0m\u001b[1;33m]\u001b[0m\u001b[1;33m\u001b[0m\u001b[1;33m\u001b[0m\u001b[0m\n\u001b[1;32m--> 515\u001b[1;33m                 \u001b[0mmodule\u001b[0m \u001b[1;33m=\u001b[0m \u001b[0mmodule_class\u001b[0m\u001b[1;33m(\u001b[0m\u001b[0mfilepath\u001b[0m\u001b[1;33m,\u001b[0m \u001b[0mprefix\u001b[0m\u001b[1;33m,\u001b[0m \u001b[0muser_api\u001b[0m\u001b[1;33m,\u001b[0m \u001b[0minternal_api\u001b[0m\u001b[1;33m)\u001b[0m\u001b[1;33m\u001b[0m\u001b[1;33m\u001b[0m\u001b[0m\n\u001b[0m\u001b[0;32m    516\u001b[0m                 \u001b[0mself\u001b[0m\u001b[1;33m.\u001b[0m\u001b[0mmodules\u001b[0m\u001b[1;33m.\u001b[0m\u001b[0mappend\u001b[0m\u001b[1;33m(\u001b[0m\u001b[0mmodule\u001b[0m\u001b[1;33m)\u001b[0m\u001b[1;33m\u001b[0m\u001b[1;33m\u001b[0m\u001b[0m\n\u001b[0;32m    517\u001b[0m \u001b[1;33m\u001b[0m\u001b[0m\n",
      "\u001b[1;32mc:\\Users\\sean8\\Anaconda3 Software\\envs\\learn-env\\lib\\site-packages\\threadpoolctl.py\u001b[0m in \u001b[0;36m__init__\u001b[1;34m(self, filepath, prefix, user_api, internal_api)\u001b[0m\n\u001b[0;32m    604\u001b[0m         \u001b[0mself\u001b[0m\u001b[1;33m.\u001b[0m\u001b[0minternal_api\u001b[0m \u001b[1;33m=\u001b[0m \u001b[0minternal_api\u001b[0m\u001b[1;33m\u001b[0m\u001b[1;33m\u001b[0m\u001b[0m\n\u001b[0;32m    605\u001b[0m         \u001b[0mself\u001b[0m\u001b[1;33m.\u001b[0m\u001b[0m_dynlib\u001b[0m \u001b[1;33m=\u001b[0m \u001b[0mctypes\u001b[0m\u001b[1;33m.\u001b[0m\u001b[0mCDLL\u001b[0m\u001b[1;33m(\u001b[0m\u001b[0mfilepath\u001b[0m\u001b[1;33m,\u001b[0m \u001b[0mmode\u001b[0m\u001b[1;33m=\u001b[0m\u001b[0m_RTLD_NOLOAD\u001b[0m\u001b[1;33m)\u001b[0m\u001b[1;33m\u001b[0m\u001b[1;33m\u001b[0m\u001b[0m\n\u001b[1;32m--> 606\u001b[1;33m         \u001b[0mself\u001b[0m\u001b[1;33m.\u001b[0m\u001b[0mversion\u001b[0m \u001b[1;33m=\u001b[0m \u001b[0mself\u001b[0m\u001b[1;33m.\u001b[0m\u001b[0mget_version\u001b[0m\u001b[1;33m(\u001b[0m\u001b[1;33m)\u001b[0m\u001b[1;33m\u001b[0m\u001b[1;33m\u001b[0m\u001b[0m\n\u001b[0m\u001b[0;32m    607\u001b[0m         \u001b[0mself\u001b[0m\u001b[1;33m.\u001b[0m\u001b[0mnum_threads\u001b[0m \u001b[1;33m=\u001b[0m \u001b[0mself\u001b[0m\u001b[1;33m.\u001b[0m\u001b[0mget_num_threads\u001b[0m\u001b[1;33m(\u001b[0m\u001b[1;33m)\u001b[0m\u001b[1;33m\u001b[0m\u001b[1;33m\u001b[0m\u001b[0m\n\u001b[0;32m    608\u001b[0m         \u001b[0mself\u001b[0m\u001b[1;33m.\u001b[0m\u001b[0m_get_extra_info\u001b[0m\u001b[1;33m(\u001b[0m\u001b[1;33m)\u001b[0m\u001b[1;33m\u001b[0m\u001b[1;33m\u001b[0m\u001b[0m\n",
      "\u001b[1;32mc:\\Users\\sean8\\Anaconda3 Software\\envs\\learn-env\\lib\\site-packages\\threadpoolctl.py\u001b[0m in \u001b[0;36mget_version\u001b[1;34m(self)\u001b[0m\n\u001b[0;32m    644\u001b[0m                              lambda: None)\n\u001b[0;32m    645\u001b[0m         \u001b[0mget_config\u001b[0m\u001b[1;33m.\u001b[0m\u001b[0mrestype\u001b[0m \u001b[1;33m=\u001b[0m \u001b[0mctypes\u001b[0m\u001b[1;33m.\u001b[0m\u001b[0mc_char_p\u001b[0m\u001b[1;33m\u001b[0m\u001b[1;33m\u001b[0m\u001b[0m\n\u001b[1;32m--> 646\u001b[1;33m         \u001b[0mconfig\u001b[0m \u001b[1;33m=\u001b[0m \u001b[0mget_config\u001b[0m\u001b[1;33m(\u001b[0m\u001b[1;33m)\u001b[0m\u001b[1;33m.\u001b[0m\u001b[0msplit\u001b[0m\u001b[1;33m(\u001b[0m\u001b[1;33m)\u001b[0m\u001b[1;33m\u001b[0m\u001b[1;33m\u001b[0m\u001b[0m\n\u001b[0m\u001b[0;32m    647\u001b[0m         \u001b[1;32mif\u001b[0m \u001b[0mconfig\u001b[0m\u001b[1;33m[\u001b[0m\u001b[1;36m0\u001b[0m\u001b[1;33m]\u001b[0m \u001b[1;33m==\u001b[0m \u001b[1;34mb\"OpenBLAS\"\u001b[0m\u001b[1;33m:\u001b[0m\u001b[1;33m\u001b[0m\u001b[1;33m\u001b[0m\u001b[0m\n\u001b[0;32m    648\u001b[0m             \u001b[1;32mreturn\u001b[0m \u001b[0mconfig\u001b[0m\u001b[1;33m[\u001b[0m\u001b[1;36m1\u001b[0m\u001b[1;33m]\u001b[0m\u001b[1;33m.\u001b[0m\u001b[0mdecode\u001b[0m\u001b[1;33m(\u001b[0m\u001b[1;34m\"utf-8\"\u001b[0m\u001b[1;33m)\u001b[0m\u001b[1;33m\u001b[0m\u001b[1;33m\u001b[0m\u001b[0m\n",
      "\u001b[1;31mAttributeError\u001b[0m: 'NoneType' object has no attribute 'split'"
     ]
    }
   ],
   "source": [
    "from sklearn.feature_extraction.text import TfidfVectorizer\n",
    "from imblearn.over_sampling import SMOTE\n",
    "from imblearn.under_sampling import RandomUnderSampler\n",
    "from imblearn.over_sampling import SMOTE\n",
    "\n",
    "###trying to simplify the sampling to stop errors\n",
    "### to see both smote and undersampling look at the next cell\n",
    "\n",
    "# Transforming the text data into numerical form\n",
    "tfidf_vectorizer = TfidfVectorizer()\n",
    "X_train_tfidf = tfidf_vectorizer.fit_transform(X_train)\n",
    "\n",
    "# Applying SMOTE \n",
    "smote = SMOTE(sampling_strategy='auto')\n",
    "X_resampled, y_resampled = smote.fit_resample(X_train_tfidf, y_train)\n",
    "\n",
    "\n",
    "\n"
   ]
  },
  {
   "cell_type": "code",
   "execution_count": null,
   "metadata": {},
   "outputs": [],
   "source": [
    "# smote and under sampling\n",
    "from collections import Counter\n",
    "\n",
    "# Determine the class counts\n",
    "class_counts = Counter(y_train)\n",
    "majority_count = class_counts[1]\n",
    "minority_count = class_counts[-1]\n",
    "\n",
    "# Target minority count to achieve 30% ratio after SMOTEENN\n",
    "target_minority_count_smoteenn = int(0.3 * (majority_count + minority_count) / 0.7)\n",
    "\n",
    "# Target majority count to achieve 40% ratio for minority after RandomUnderSampler\n",
    "target_majority_count_undersample = int(target_minority_count_smoteenn / 0.4 * 0.6)\n",
    "\n",
    "# Transforming the text data into numerical form\n",
    "tfidf_vectorizer = TfidfVectorizer()\n",
    "X_train_tfidf = tfidf_vectorizer.fit_transform(X_train)\n",
    "\n",
    "# Applying SMOTEENN\n",
    "smote_enn = SMOTEENN(sampling_strategy={-1: target_minority_count_smoteenn, 1: majority_count})\n",
    "X_resampled, y_resampled = smote_enn.fit_resample(X_train_tfidf, y_train)\n",
    "\n",
    "# Applying RandomUnderSampler\n",
    "under_sampler = RandomUnderSampler(sampling_strategy={-1: target_minority_count_smoteenn, 1: target_majority_count_undersample})\n",
    "X_resampled, y_resampled = under_sampler.fit_resample(X_resampled, y_resampled)\n"
   ]
  },
  {
   "cell_type": "code",
   "execution_count": 35,
   "metadata": {},
   "outputs": [
    {
     "ename": "NameError",
     "evalue": "name 'y_resampled' is not defined",
     "output_type": "error",
     "traceback": [
      "\u001b[1;31m---------------------------------------------------------------------------\u001b[0m",
      "\u001b[1;31mNameError\u001b[0m                                 Traceback (most recent call last)",
      "\u001b[1;32m<ipython-input-35-e02b374aa74a>\u001b[0m in \u001b[0;36m<module>\u001b[1;34m\u001b[0m\n\u001b[0;32m      1\u001b[0m \u001b[1;31m# Determine the class counts\u001b[0m\u001b[1;33m\u001b[0m\u001b[1;33m\u001b[0m\u001b[1;33m\u001b[0m\u001b[0m\n\u001b[1;32m----> 2\u001b[1;33m \u001b[0mclass_counts\u001b[0m \u001b[1;33m=\u001b[0m \u001b[0mCounter\u001b[0m\u001b[1;33m(\u001b[0m\u001b[0my_resampled\u001b[0m\u001b[1;33m)\u001b[0m\u001b[1;33m\u001b[0m\u001b[1;33m\u001b[0m\u001b[0m\n\u001b[0m\u001b[0;32m      3\u001b[0m \u001b[0mmajority_count\u001b[0m \u001b[1;33m=\u001b[0m \u001b[0mclass_counts\u001b[0m\u001b[1;33m[\u001b[0m\u001b[1;36m1\u001b[0m\u001b[1;33m]\u001b[0m\u001b[1;33m\u001b[0m\u001b[1;33m\u001b[0m\u001b[0m\n\u001b[0;32m      4\u001b[0m \u001b[0mminority_count\u001b[0m \u001b[1;33m=\u001b[0m \u001b[0mclass_counts\u001b[0m\u001b[1;33m[\u001b[0m\u001b[1;33m-\u001b[0m\u001b[1;36m1\u001b[0m\u001b[1;33m]\u001b[0m\u001b[1;33m\u001b[0m\u001b[1;33m\u001b[0m\u001b[0m\n\u001b[0;32m      5\u001b[0m \u001b[1;33m\u001b[0m\u001b[0m\n",
      "\u001b[1;31mNameError\u001b[0m: name 'y_resampled' is not defined"
     ]
    }
   ],
   "source": [
    "# Determine the class counts\n",
    "class_counts = Counter(y_resampled)\n",
    "majority_count = class_counts[1]\n",
    "minority_count = class_counts[-1]\n",
    "\n",
    "print(\"Class counts: \", class_counts)\n",
    "print('Majority Count: ', majority_count)\n",
    "print('Minority Count: ', minority_count)"
   ]
  },
  {
   "cell_type": "code",
   "execution_count": null,
   "metadata": {},
   "outputs": [],
   "source": []
  }
 ],
 "metadata": {
  "kernelspec": {
   "display_name": "learn-env",
   "language": "python",
   "name": "python3"
  },
  "language_info": {
   "codemirror_mode": {
    "name": "ipython",
    "version": 3
   },
   "file_extension": ".py",
   "mimetype": "text/x-python",
   "name": "python",
   "nbconvert_exporter": "python",
   "pygments_lexer": "ipython3",
   "version": "3.8.5"
  },
  "orig_nbformat": 4
 },
 "nbformat": 4,
 "nbformat_minor": 2
}
